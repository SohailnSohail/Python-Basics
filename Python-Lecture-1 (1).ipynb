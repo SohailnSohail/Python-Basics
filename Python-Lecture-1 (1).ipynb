{
 "cells": [
  {
   "cell_type": "markdown",
   "id": "fcd10387",
   "metadata": {},
   "source": [
    "# Data Types\n",
    "1. `int`\n",
    "2. `float`\n",
    "3. `char`\n",
    "4. `string` (Collection of characters)\n",
    "5. `bool`"
   ]
  },
  {
   "cell_type": "code",
   "execution_count": 1,
   "id": "5b9b42a2",
   "metadata": {
    "ExecuteTime": {
     "end_time": "2022-06-18T07:41:58.350772Z",
     "start_time": "2022-06-18T07:41:58.340668Z"
    }
   },
   "outputs": [
    {
     "name": "stdout",
     "output_type": "stream",
     "text": [
      "hello, world!\n"
     ]
    }
   ],
   "source": [
    "print(\"hello, world!\")"
   ]
  },
  {
   "cell_type": "code",
   "execution_count": 2,
   "id": "c83ff937",
   "metadata": {},
   "outputs": [
    {
     "name": "stdout",
     "output_type": "stream",
     "text": [
      "-1.092\n"
     ]
    }
   ],
   "source": [
    "print(float(1.12-2.212))"
   ]
  },
  {
   "cell_type": "code",
   "execution_count": 3,
   "id": "527f8a0e",
   "metadata": {},
   "outputs": [
    {
     "ename": "ValueError",
     "evalue": "invalid literal for int() with base 10: 'please enter the value'",
     "output_type": "error",
     "traceback": [
      "\u001b[1;31m---------------------------------------------------------------------------\u001b[0m",
      "\u001b[1;31mValueError\u001b[0m                                Traceback (most recent call last)",
      "Input \u001b[1;32mIn [3]\u001b[0m, in \u001b[0;36m<cell line: 1>\u001b[1;34m()\u001b[0m\n\u001b[1;32m----> 1\u001b[0m \u001b[38;5;28minput\u001b[39m(\u001b[38;5;28;43mint\u001b[39;49m\u001b[43m(\u001b[49m\u001b[38;5;124;43m\"\u001b[39;49m\u001b[38;5;124;43mplease enter the value\u001b[39;49m\u001b[38;5;124;43m\"\u001b[39;49m\u001b[43m)\u001b[49m)\n",
      "\u001b[1;31mValueError\u001b[0m: invalid literal for int() with base 10: 'please enter the value'"
     ]
    }
   ],
   "source": [
    "input(int(\"please enter the value\"))"
   ]
  },
  {
   "cell_type": "code",
   "execution_count": null,
   "id": "b2a68cb6",
   "metadata": {
    "ExecuteTime": {
     "end_time": "2022-06-18T07:41:58.366599Z",
     "start_time": "2022-06-18T07:41:58.354759Z"
    }
   },
   "outputs": [],
   "source": [
    "a = 2 /integer\n",
    "b = 2.2 /float\n",
    "A = 2.3 /float\n",
    "str2 = \"Sohail\" /string\n",
    "c = 'D' /char\n",
    "print(c, a, A, b, str2)\n",
    "print(type(c),type(A), type(a), type(b), type(str2))"
   ]
  },
  {
   "cell_type": "code",
   "execution_count": null,
   "id": "41d78f89",
   "metadata": {
    "ExecuteTime": {
     "end_time": "2022-06-18T07:41:58.381749Z",
     "start_time": "2022-06-18T07:41:58.370753Z"
    }
   },
   "outputs": [],
   "source": [
    "a, b = b, a\n",
    "print(a, b)"
   ]
  },
  {
   "cell_type": "code",
   "execution_count": null,
   "id": "31955584",
   "metadata": {
    "ExecuteTime": {
     "end_time": "2022-06-18T07:41:58.397791Z",
     "start_time": "2022-06-18T07:41:58.385153Z"
    }
   },
   "outputs": [],
   "source": [
    "# Defining multiple variables in a single line\n",
    "str1, num1 = \"Haseeb\", 3.14\n",
    "print(str1, num1)"
   ]
  },
  {
   "cell_type": "code",
   "execution_count": null,
   "id": "c36fcad9",
   "metadata": {},
   "outputs": [],
   "source": [
    "a,c,f,d = 11,13,'j',\"s\"\n",
    "print(a,c)\n",
    "print(a)\n",
    "print(c)\n",
    "print(type(d))"
   ]
  },
  {
   "cell_type": "code",
   "execution_count": null,
   "id": "82095489",
   "metadata": {},
   "outputs": [],
   "source": [
    "q = ''\n",
    "print(type(q))"
   ]
  },
  {
   "cell_type": "code",
   "execution_count": null,
   "id": "a3afa25a",
   "metadata": {},
   "outputs": [],
   "source": [
    "s = \" \"\n",
    "print(type(s))"
   ]
  },
  {
   "cell_type": "markdown",
   "id": "5aad7bab",
   "metadata": {},
   "source": [
    "## Rules of naming Variables\n",
    "1. Cannot start with a number\n",
    "2. Can contain alphanumeric characters & `_` (underscore character)\n",
    "3. Cannot be reserved keywords\n",
    "4. Cannot have spaces or any other special characters\n",
    "5. Variable names can be small like `x`, `y` or more descriptive like `TotalVolume`, `SurfaceArea`"
   ]
  },
  {
   "cell_type": "code",
   "execution_count": null,
   "id": "3a77d3b5",
   "metadata": {},
   "outputs": [],
   "source": [
    "myname = \"sohail\"\n",
    "yourname = 'Syed Ali\"\n"
   ]
  },
  {
   "cell_type": "code",
   "execution_count": null,
   "id": "b0802eb2",
   "metadata": {},
   "outputs": [],
   "source": [
    "int_1 = 'sohail&rehman'\n",
    "print(int_1)"
   ]
  },
  {
   "cell_type": "code",
   "execution_count": null,
   "id": "795851dc",
   "metadata": {
    "ExecuteTime": {
     "end_time": "2022-06-18T07:41:58.444891Z",
     "start_time": "2022-06-18T07:41:58.426751Z"
    }
   },
   "outputs": [],
   "source": [
    "# Illegal variables\n",
    "1num = 2.2\n",
    "my-var = 3\n",
    "my var = \"2.2\""
   ]
  },
  {
   "cell_type": "code",
   "execution_count": null,
   "id": "78301833",
   "metadata": {
    "ExecuteTime": {
     "end_time": "2022-06-18T07:42:22.851761Z",
     "start_time": "2022-06-18T07:42:22.830747Z"
    }
   },
   "outputs": [],
   "source": [
    "# Scientific Notation\n",
    "\n",
    "var1 = 12e10\n",
    "var2 = 3e-2\n",
    "print(var1, var2)\n"
   ]
  },
  {
   "cell_type": "code",
   "execution_count": 4,
   "id": "ef8375fb",
   "metadata": {
    "ExecuteTime": {
     "end_time": "2022-06-18T07:42:22.867730Z",
     "start_time": "2022-06-18T07:42:22.853721Z"
    }
   },
   "outputs": [
    {
     "name": "stdout",
     "output_type": "stream",
     "text": [
      "1234 <class 'int'> 2 3.0 3.0 <class 'str'> 2.6 <class 'str'>\n"
     ]
    }
   ],
   "source": [
    "# Typecasting (External Typecasting)\n",
    "\n",
    "var1 = 2.6\n",
    "var2 = 3\n",
    "var3 = \"1234\"\n",
    "\n",
    "var4 = int(var3)\n",
    "var5 = int(var1)\n",
    "var6 = float(var2)\n",
    "var7 = str(var6)\n",
    "var8 = str(var1)\n",
    "print(var4, type(var4), var5, var6, var7, type(var7), var8, type(var8))"
   ]
  },
  {
   "cell_type": "code",
   "execution_count": 8,
   "id": "67fb3fd7",
   "metadata": {},
   "outputs": [
    {
     "name": "stdout",
     "output_type": "stream",
     "text": [
      "<class 'str'>\n",
      "<class 'int'>\n"
     ]
    }
   ],
   "source": [
    "number = 123 # integer\n",
    "\n",
    "num_to_string = str(number) \n",
    "print(type(num_to_string))\n",
    "print(type(number))"
   ]
  },
  {
   "cell_type": "code",
   "execution_count": 10,
   "id": "ebff25f4",
   "metadata": {},
   "outputs": [
    {
     "ename": "KeyboardInterrupt",
     "evalue": "Interrupted by user",
     "output_type": "error",
     "traceback": [
      "\u001b[1;31m---------------------------------------------------------------------------\u001b[0m",
      "\u001b[1;31mKeyboardInterrupt\u001b[0m                         Traceback (most recent call last)",
      "Input \u001b[1;32mIn [10]\u001b[0m, in \u001b[0;36m<cell line: 1>\u001b[1;34m()\u001b[0m\n\u001b[1;32m----> 1\u001b[0m \u001b[38;5;28;43minput\u001b[39;49m\u001b[43m(\u001b[49m\u001b[38;5;124;43m\"\u001b[39;49m\u001b[38;5;124;43menter a string to continue\u001b[39;49m\u001b[38;5;124;43m\"\u001b[39;49m\u001b[43m)\u001b[49m\n",
      "File \u001b[1;32m~\\anaconda3\\lib\\site-packages\\ipykernel\\kernelbase.py:1075\u001b[0m, in \u001b[0;36mKernel.raw_input\u001b[1;34m(self, prompt)\u001b[0m\n\u001b[0;32m   1071\u001b[0m \u001b[38;5;28;01mif\u001b[39;00m \u001b[38;5;129;01mnot\u001b[39;00m \u001b[38;5;28mself\u001b[39m\u001b[38;5;241m.\u001b[39m_allow_stdin:\n\u001b[0;32m   1072\u001b[0m     \u001b[38;5;28;01mraise\u001b[39;00m StdinNotImplementedError(\n\u001b[0;32m   1073\u001b[0m         \u001b[38;5;124m\"\u001b[39m\u001b[38;5;124mraw_input was called, but this frontend does not support input requests.\u001b[39m\u001b[38;5;124m\"\u001b[39m\n\u001b[0;32m   1074\u001b[0m     )\n\u001b[1;32m-> 1075\u001b[0m \u001b[38;5;28;01mreturn\u001b[39;00m \u001b[38;5;28;43mself\u001b[39;49m\u001b[38;5;241;43m.\u001b[39;49m\u001b[43m_input_request\u001b[49m\u001b[43m(\u001b[49m\n\u001b[0;32m   1076\u001b[0m \u001b[43m    \u001b[49m\u001b[38;5;28;43mstr\u001b[39;49m\u001b[43m(\u001b[49m\u001b[43mprompt\u001b[49m\u001b[43m)\u001b[49m\u001b[43m,\u001b[49m\n\u001b[0;32m   1077\u001b[0m \u001b[43m    \u001b[49m\u001b[38;5;28;43mself\u001b[39;49m\u001b[38;5;241;43m.\u001b[39;49m\u001b[43m_parent_ident\u001b[49m\u001b[43m[\u001b[49m\u001b[38;5;124;43m\"\u001b[39;49m\u001b[38;5;124;43mshell\u001b[39;49m\u001b[38;5;124;43m\"\u001b[39;49m\u001b[43m]\u001b[49m\u001b[43m,\u001b[49m\n\u001b[0;32m   1078\u001b[0m \u001b[43m    \u001b[49m\u001b[38;5;28;43mself\u001b[39;49m\u001b[38;5;241;43m.\u001b[39;49m\u001b[43mget_parent\u001b[49m\u001b[43m(\u001b[49m\u001b[38;5;124;43m\"\u001b[39;49m\u001b[38;5;124;43mshell\u001b[39;49m\u001b[38;5;124;43m\"\u001b[39;49m\u001b[43m)\u001b[49m\u001b[43m,\u001b[49m\n\u001b[0;32m   1079\u001b[0m \u001b[43m    \u001b[49m\u001b[43mpassword\u001b[49m\u001b[38;5;241;43m=\u001b[39;49m\u001b[38;5;28;43;01mFalse\u001b[39;49;00m\u001b[43m,\u001b[49m\n\u001b[0;32m   1080\u001b[0m \u001b[43m\u001b[49m\u001b[43m)\u001b[49m\n",
      "File \u001b[1;32m~\\anaconda3\\lib\\site-packages\\ipykernel\\kernelbase.py:1120\u001b[0m, in \u001b[0;36mKernel._input_request\u001b[1;34m(self, prompt, ident, parent, password)\u001b[0m\n\u001b[0;32m   1117\u001b[0m             \u001b[38;5;28;01mbreak\u001b[39;00m\n\u001b[0;32m   1118\u001b[0m \u001b[38;5;28;01mexcept\u001b[39;00m \u001b[38;5;167;01mKeyboardInterrupt\u001b[39;00m:\n\u001b[0;32m   1119\u001b[0m     \u001b[38;5;66;03m# re-raise KeyboardInterrupt, to truncate traceback\u001b[39;00m\n\u001b[1;32m-> 1120\u001b[0m     \u001b[38;5;28;01mraise\u001b[39;00m \u001b[38;5;167;01mKeyboardInterrupt\u001b[39;00m(\u001b[38;5;124m\"\u001b[39m\u001b[38;5;124mInterrupted by user\u001b[39m\u001b[38;5;124m\"\u001b[39m) \u001b[38;5;28;01mfrom\u001b[39;00m \u001b[38;5;28mNone\u001b[39m\n\u001b[0;32m   1121\u001b[0m \u001b[38;5;28;01mexcept\u001b[39;00m \u001b[38;5;167;01mException\u001b[39;00m:\n\u001b[0;32m   1122\u001b[0m     \u001b[38;5;28mself\u001b[39m\u001b[38;5;241m.\u001b[39mlog\u001b[38;5;241m.\u001b[39mwarning(\u001b[38;5;124m\"\u001b[39m\u001b[38;5;124mInvalid Message:\u001b[39m\u001b[38;5;124m\"\u001b[39m, exc_info\u001b[38;5;241m=\u001b[39m\u001b[38;5;28;01mTrue\u001b[39;00m)\n",
      "\u001b[1;31mKeyboardInterrupt\u001b[0m: Interrupted by user"
     ]
    }
   ],
   "source": [
    "input(\"enter a string to continue\")"
   ]
  },
  {
   "cell_type": "code",
   "execution_count": null,
   "id": "54dabbe8",
   "metadata": {
    "ExecuteTime": {
     "end_time": "2022-06-18T07:42:22.898767Z",
     "start_time": "2022-06-18T07:42:22.870727Z"
    }
   },
   "outputs": [],
   "source": [
    "type(var7, var8)"
   ]
  },
  {
   "cell_type": "code",
   "execution_count": 1,
   "id": "391edf4a",
   "metadata": {
    "ExecuteTime": {
     "end_time": "2022-06-18T07:42:22.900721Z",
     "start_time": "2022-06-18T07:42:22.900721Z"
    }
   },
   "outputs": [
    {
     "name": "stdout",
     "output_type": "stream",
     "text": [
      "Help on class type in module builtins:\n",
      "\n",
      "class type(object)\n",
      " |  type(object) -> the object's type\n",
      " |  type(name, bases, dict, **kwds) -> a new type\n",
      " |  \n",
      " |  Methods defined here:\n",
      " |  \n",
      " |  __call__(self, /, *args, **kwargs)\n",
      " |      Call self as a function.\n",
      " |  \n",
      " |  __delattr__(self, name, /)\n",
      " |      Implement delattr(self, name).\n",
      " |  \n",
      " |  __dir__(self, /)\n",
      " |      Specialized __dir__ implementation for types.\n",
      " |  \n",
      " |  __getattribute__(self, name, /)\n",
      " |      Return getattr(self, name).\n",
      " |  \n",
      " |  __init__(self, /, *args, **kwargs)\n",
      " |      Initialize self.  See help(type(self)) for accurate signature.\n",
      " |  \n",
      " |  __instancecheck__(self, instance, /)\n",
      " |      Check if an object is an instance.\n",
      " |  \n",
      " |  __repr__(self, /)\n",
      " |      Return repr(self).\n",
      " |  \n",
      " |  __setattr__(self, name, value, /)\n",
      " |      Implement setattr(self, name, value).\n",
      " |  \n",
      " |  __sizeof__(self, /)\n",
      " |      Return memory consumption of the type object.\n",
      " |  \n",
      " |  __subclasscheck__(self, subclass, /)\n",
      " |      Check if a class is a subclass.\n",
      " |  \n",
      " |  __subclasses__(self, /)\n",
      " |      Return a list of immediate subclasses.\n",
      " |  \n",
      " |  mro(self, /)\n",
      " |      Return a type's method resolution order.\n",
      " |  \n",
      " |  ----------------------------------------------------------------------\n",
      " |  Class methods defined here:\n",
      " |  \n",
      " |  __prepare__(...)\n",
      " |      __prepare__() -> dict\n",
      " |      used to create the namespace for the class statement\n",
      " |  \n",
      " |  ----------------------------------------------------------------------\n",
      " |  Static methods defined here:\n",
      " |  \n",
      " |  __new__(*args, **kwargs)\n",
      " |      Create and return a new object.  See help(type) for accurate signature.\n",
      " |  \n",
      " |  ----------------------------------------------------------------------\n",
      " |  Data descriptors defined here:\n",
      " |  \n",
      " |  __abstractmethods__\n",
      " |  \n",
      " |  __dict__\n",
      " |  \n",
      " |  __text_signature__\n",
      " |  \n",
      " |  ----------------------------------------------------------------------\n",
      " |  Data and other attributes defined here:\n",
      " |  \n",
      " |  __base__ = <class 'object'>\n",
      " |      The base class of the class hierarchy.\n",
      " |      \n",
      " |      When called, it accepts no arguments and returns a new featureless\n",
      " |      instance that has no instance attributes and cannot be given any.\n",
      " |  \n",
      " |  \n",
      " |  __bases__ = (<class 'object'>,)\n",
      " |  \n",
      " |  __basicsize__ = 880\n",
      " |  \n",
      " |  __dictoffset__ = 264\n",
      " |  \n",
      " |  __flags__ = 2148293632\n",
      " |  \n",
      " |  __itemsize__ = 40\n",
      " |  \n",
      " |  __mro__ = (<class 'type'>, <class 'object'>)\n",
      " |  \n",
      " |  __weakrefoffset__ = 368\n",
      "\n"
     ]
    }
   ],
   "source": [
    "help(type)"
   ]
  },
  {
   "cell_type": "code",
   "execution_count": null,
   "id": "01837cb4",
   "metadata": {
    "ExecuteTime": {
     "end_time": "2022-06-18T07:42:22.902720Z",
     "start_time": "2022-06-18T07:42:22.902720Z"
    }
   },
   "outputs": [],
   "source": [
    "help(print)"
   ]
  },
  {
   "cell_type": "markdown",
   "id": "c51ed882",
   "metadata": {},
   "source": [
    "## Handling strings\n",
    "* Strings are iterable.\n",
    "* Concatentation of strings"
   ]
  },
  {
   "cell_type": "code",
   "execution_count": 4,
   "id": "20bd1459",
   "metadata": {
    "ExecuteTime": {
     "end_time": "2022-06-18T07:44:27.214976Z",
     "start_time": "2022-06-18T07:44:27.187968Z"
    }
   },
   "outputs": [
    {
     "name": "stdout",
     "output_type": "stream",
     "text": [
      "Rehan Nasir Data Shayta Class\n"
     ]
    },
    {
     "data": {
      "text/plain": [
       "'Rehan Nasir'"
      ]
     },
     "execution_count": 4,
     "metadata": {},
     "output_type": "execute_result"
    }
   ],
   "source": [
    "my_name = \"Rehan Nasir\"\n",
    "name2 = \"Data Shayta Class\"\n",
    "print(my_name+ \" \"  + name2)\n",
    "my_name"
   ]
  },
  {
   "cell_type": "code",
   "execution_count": 5,
   "id": "0d8261dc",
   "metadata": {
    "ExecuteTime": {
     "end_time": "2022-06-18T07:47:41.066959Z",
     "start_time": "2022-06-18T07:47:41.042907Z"
    }
   },
   "outputs": [
    {
     "name": "stdout",
     "output_type": "stream",
     "text": [
      "R\n"
     ]
    },
    {
     "data": {
      "text/plain": [
       "' '"
      ]
     },
     "execution_count": 5,
     "metadata": {},
     "output_type": "execute_result"
    }
   ],
   "source": [
    "print(my_name[0])\n",
    "name2[4]"
   ]
  },
  {
   "cell_type": "code",
   "execution_count": 8,
   "id": "0ac29a61",
   "metadata": {},
   "outputs": [
    {
     "name": "stdout",
     "output_type": "stream",
     "text": [
      "ing\n"
     ]
    }
   ],
   "source": [
    "mysubject = 'Programming'\n",
    "print(mysubject[8:11])"
   ]
  },
  {
   "cell_type": "code",
   "execution_count": 9,
   "id": "923db489",
   "metadata": {
    "ExecuteTime": {
     "end_time": "2022-06-18T07:53:58.195965Z",
     "start_time": "2022-06-18T07:53:58.177971Z"
    }
   },
   "outputs": [
    {
     "name": "stdout",
     "output_type": "stream",
     "text": [
      "Sohail is 19 years old.\n"
     ]
    }
   ],
   "source": [
    "sentence1 = \"Sohail is {} years old.\"\n",
    "age = 19\n",
    "\n",
    "print(sentence1.format(age))"
   ]
  },
  {
   "cell_type": "code",
   "execution_count": 12,
   "id": "f9a28c2e",
   "metadata": {},
   "outputs": [
    {
     "name": "stdout",
     "output_type": "stream",
     "text": [
      "I am 20 years old\n"
     ]
    }
   ],
   "source": [
    "sentenss = \"I am {} years old\"\n",
    "age = 20\n",
    "print(sentenss.format(age))"
   ]
  },
  {
   "cell_type": "code",
   "execution_count": null,
   "id": "4723f4f2",
   "metadata": {
    "ExecuteTime": {
     "end_time": "2022-06-18T07:57:53.747764Z",
     "start_time": "2022-06-18T07:57:53.739631Z"
    }
   },
   "outputs": [],
   "source": [
    "print(\"Sohail is {} years old.\".format(age))"
   ]
  },
  {
   "cell_type": "code",
   "execution_count": 15,
   "id": "24edcb71",
   "metadata": {
    "ExecuteTime": {
     "end_time": "2022-06-18T08:04:28.422012Z",
     "start_time": "2022-06-18T08:04:28.407203Z"
    }
   },
   "outputs": [
    {
     "name": "stdout",
     "output_type": "stream",
     "text": [
      "We are \n",
      "Data Shayta.\n",
      "We are \t Data Shayta.\n",
      "We are \"Data Shayta\".\n",
      "We are 'Data Shayta'.\n"
     ]
    }
   ],
   "source": [
    "# Usage of escape characters (\\t, \\n, \\\", \\')\n",
    "\n",
    "print(\"We are \\nData Shayta.\")\n",
    "print(\"We are \\t Data Shayta.\")\n",
    "print(\"We are \\\"Data Shayta\\\".\")\n",
    "print(\"We are \\'Data Shayta\\'.\")\n"
   ]
  },
  {
   "cell_type": "code",
   "execution_count": null,
   "id": "6f35adee",
   "metadata": {
    "ExecuteTime": {
     "end_time": "2022-06-18T08:06:34.508122Z",
     "start_time": "2022-06-18T08:06:34.491955Z"
    }
   },
   "outputs": [],
   "source": [
    "print(\"We are \"Data Shayta\".\")"
   ]
  },
  {
   "cell_type": "code",
   "execution_count": null,
   "id": "864a4d6c",
   "metadata": {
    "ExecuteTime": {
     "end_time": "2022-06-18T08:05:45.786610Z",
     "start_time": "2022-06-18T08:05:45.767446Z"
    }
   },
   "outputs": [],
   "source": [
    "print('We are \"Data Shayta\".')"
   ]
  },
  {
   "cell_type": "code",
   "execution_count": null,
   "id": "1bd5dd3a",
   "metadata": {
    "ExecuteTime": {
     "end_time": "2022-06-18T08:07:31.557300Z",
     "start_time": "2022-06-18T08:07:31.545302Z"
    }
   },
   "outputs": [],
   "source": [
    "print(\"We are 'Data Shayta'.\")"
   ]
  },
  {
   "cell_type": "code",
   "execution_count": 16,
   "id": "e795fef2",
   "metadata": {
    "ExecuteTime": {
     "end_time": "2022-06-18T08:11:58.883170Z",
     "start_time": "2022-06-18T08:11:58.869603Z"
    }
   },
   "outputs": [
    {
     "name": "stdout",
     "output_type": "stream",
     "text": [
      "Some text here \n",
      "\n",
      "Some more text here\n",
      "The paragraph ends here.\n",
      "Rehan here\n"
     ]
    }
   ],
   "source": [
    "# Multiline Strings\n",
    "string2 = \"\"\"Some text here \\n\n",
    "Some more text here\n",
    "The paragraph ends here.\n",
    "Rehan here\"\"\"\n",
    "\n",
    "print(string2)"
   ]
  },
  {
   "cell_type": "code",
   "execution_count": 18,
   "id": "473cf0f7",
   "metadata": {},
   "outputs": [
    {
     "name": "stdout",
     "output_type": "stream",
     "text": [
      "I am Sohail Rehman. I am from\n",
      "Layyah, Pakistan.\n",
      "I am a python              developer\n",
      "my dream job is Data \n",
      "\n",
      "Scientist\n"
     ]
    }
   ],
   "source": [
    "my_string = \"\"\"I am Sohail Rehman. I am from\n",
    "Layyah, Pakistan.\n",
    "I am a python              developer\n",
    "my dream job is Data \n",
    "\n",
    "Scientist\"\"\"\n",
    "print(my_string)"
   ]
  },
  {
   "cell_type": "code",
   "execution_count": null,
   "id": "f2541ff2",
   "metadata": {
    "ExecuteTime": {
     "end_time": "2022-06-18T08:27:49.140914Z",
     "start_time": "2022-06-18T08:27:49.110915Z"
    },
    "scrolled": true
   },
   "outputs": [],
   "source": [
    "help(str)"
   ]
  },
  {
   "cell_type": "code",
   "execution_count": null,
   "id": "3568a136",
   "metadata": {
    "ExecuteTime": {
     "end_time": "2022-06-18T08:28:37.914875Z",
     "start_time": "2022-06-18T08:28:37.891874Z"
    }
   },
   "outputs": [],
   "source": [
    "\"my name is Ahmed\".upper()"
   ]
  },
  {
   "cell_type": "code",
   "execution_count": null,
   "id": "e1d792f6",
   "metadata": {
    "ExecuteTime": {
     "end_time": "2022-06-18T08:28:59.260230Z",
     "start_time": "2022-06-18T08:28:59.237237Z"
    }
   },
   "outputs": [],
   "source": [
    "\"my name is AHMED\".lower()"
   ]
  },
  {
   "cell_type": "code",
   "execution_count": null,
   "id": "2a04ed2b",
   "metadata": {
    "ExecuteTime": {
     "end_time": "2022-06-18T08:31:13.624854Z",
     "start_time": "2022-06-18T08:31:13.609851Z"
    }
   },
   "outputs": [],
   "source": [
    "\"data shayta\".title()"
   ]
  },
  {
   "cell_type": "code",
   "execution_count": null,
   "id": "c60997e8",
   "metadata": {
    "ExecuteTime": {
     "end_time": "2022-06-18T08:31:39.379135Z",
     "start_time": "2022-06-18T08:31:39.357083Z"
    }
   },
   "outputs": [],
   "source": [
    "\"data shayta\".count('a')"
   ]
  },
  {
   "cell_type": "code",
   "execution_count": null,
   "id": "7e0b4eaa",
   "metadata": {
    "ExecuteTime": {
     "end_time": "2022-06-18T08:34:52.904961Z",
     "start_time": "2022-06-18T08:34:52.893969Z"
    }
   },
   "outputs": [],
   "source": [
    "\"data shayta 123422\".count('2')"
   ]
  },
  {
   "cell_type": "code",
   "execution_count": null,
   "id": "16e30e0c",
   "metadata": {
    "ExecuteTime": {
     "end_time": "2022-06-18T08:36:04.443755Z",
     "start_time": "2022-06-18T08:36:04.425758Z"
    }
   },
   "outputs": [],
   "source": [
    "\"data shayta 123422\".count('data')"
   ]
  },
  {
   "cell_type": "code",
   "execution_count": null,
   "id": "d8ad04a3",
   "metadata": {
    "ExecuteTime": {
     "end_time": "2022-06-18T08:35:02.654624Z",
     "start_time": "2022-06-18T08:35:02.634628Z"
    }
   },
   "outputs": [],
   "source": [
    "\"data shayta\".find('a')"
   ]
  },
  {
   "cell_type": "code",
   "execution_count": null,
   "id": "7f59b4ca",
   "metadata": {
    "ExecuteTime": {
     "end_time": "2022-06-18T08:35:36.227369Z",
     "start_time": "2022-06-18T08:35:36.220367Z"
    }
   },
   "outputs": [],
   "source": [
    "\"data shayta\".find('shayta')"
   ]
  },
  {
   "cell_type": "code",
   "execution_count": null,
   "id": "1565fee8",
   "metadata": {
    "ExecuteTime": {
     "end_time": "2022-06-18T08:42:01.256149Z",
     "start_time": "2022-06-18T08:42:01.237102Z"
    }
   },
   "outputs": [],
   "source": [
    "print(\"03 00 74 12 8 8 8\".replace(' ', ''))\n",
    "print(\"0300-741-2888\".replace('-', ''))"
   ]
  },
  {
   "cell_type": "markdown",
   "id": "469e4dce",
   "metadata": {},
   "source": [
    "# Arithmetic"
   ]
  },
  {
   "cell_type": "markdown",
   "id": "33ed47cf",
   "metadata": {},
   "source": [
    "* `+` \n",
    "* `-` \n",
    "* `*` \n",
    "* `/`\n",
    "* `//`\n",
    "* `**`\n",
    "* `%`\n",
    "* `+=  -=  /=`"
   ]
  },
  {
   "cell_type": "code",
   "execution_count": null,
   "id": "ce296757",
   "metadata": {
    "ExecuteTime": {
     "end_time": "2022-06-18T08:49:03.456636Z",
     "start_time": "2022-06-18T08:49:03.440609Z"
    }
   },
   "outputs": [],
   "source": [
    "num1 = 2\n",
    "num2 =2.5\n",
    "\n",
    "num2 += num1 # num2 = num2 + num1\n",
    "\n",
    "print(num2)"
   ]
  },
  {
   "cell_type": "code",
   "execution_count": null,
   "id": "3f891332",
   "metadata": {
    "ExecuteTime": {
     "end_time": "2022-06-18T08:51:35.258888Z",
     "start_time": "2022-06-18T08:51:35.251885Z"
    }
   },
   "outputs": [],
   "source": [
    "num1 /= num2 # num1 = num1 / num2\n",
    "\n",
    "print(num1)"
   ]
  },
  {
   "cell_type": "code",
   "execution_count": null,
   "id": "e97dda5f",
   "metadata": {
    "ExecuteTime": {
     "end_time": "2022-06-18T08:52:26.527541Z",
     "start_time": "2022-06-18T08:52:26.519545Z"
    }
   },
   "outputs": [],
   "source": [
    "round(num1)"
   ]
  },
  {
   "cell_type": "code",
   "execution_count": null,
   "id": "91bf3eab",
   "metadata": {
    "ExecuteTime": {
     "end_time": "2022-06-18T08:52:51.807682Z",
     "start_time": "2022-06-18T08:52:51.792644Z"
    }
   },
   "outputs": [],
   "source": [
    "help(round)"
   ]
  },
  {
   "cell_type": "code",
   "execution_count": null,
   "id": "293caaa9",
   "metadata": {
    "ExecuteTime": {
     "end_time": "2022-06-18T08:53:07.450897Z",
     "start_time": "2022-06-18T08:53:07.431868Z"
    }
   },
   "outputs": [],
   "source": [
    "round(num1,2)"
   ]
  },
  {
   "cell_type": "markdown",
   "id": "0577c6d2",
   "metadata": {},
   "source": [
    "**PEMDAS**"
   ]
  },
  {
   "cell_type": "markdown",
   "id": "bef3160d",
   "metadata": {},
   "source": [
    "1. Parenthsesis\n",
    "2. Exponent\n",
    "3. Multiplication\n",
    "4. Division\n",
    "5. Addition\n",
    "6. Subtraction "
   ]
  },
  {
   "cell_type": "code",
   "execution_count": null,
   "id": "863b5cc2",
   "metadata": {
    "ExecuteTime": {
     "end_time": "2022-06-18T08:55:37.284906Z",
     "start_time": "2022-06-18T08:55:37.277907Z"
    }
   },
   "outputs": [],
   "source": [
    "2 * 4 / 6"
   ]
  },
  {
   "cell_type": "code",
   "execution_count": null,
   "id": "ac8c199c",
   "metadata": {
    "ExecuteTime": {
     "end_time": "2022-06-18T08:56:11.879849Z",
     "start_time": "2022-06-18T08:56:11.858843Z"
    }
   },
   "outputs": [],
   "source": [
    "2 * (12 / 6)"
   ]
  },
  {
   "cell_type": "code",
   "execution_count": null,
   "id": "01963885",
   "metadata": {
    "ExecuteTime": {
     "end_time": "2022-06-18T08:58:09.208272Z",
     "start_time": "2022-06-18T08:58:09.187274Z"
    }
   },
   "outputs": [],
   "source": [
    "weight = 62 \n",
    "height = 2\n",
    "\n",
    "bmi = weight / height**2 #exponent\n",
    "print(bmi)"
   ]
  },
  {
   "cell_type": "code",
   "execution_count": null,
   "id": "8d04b88a",
   "metadata": {
    "ExecuteTime": {
     "end_time": "2022-06-18T08:59:36.334082Z",
     "start_time": "2022-06-18T08:59:36.324083Z"
    }
   },
   "outputs": [],
   "source": [
    "5%2 #remainder"
   ]
  },
  {
   "cell_type": "code",
   "execution_count": null,
   "id": "f9a16eeb",
   "metadata": {
    "ExecuteTime": {
     "end_time": "2022-06-18T09:00:39.139432Z",
     "start_time": "2022-06-18T09:00:39.119426Z"
    }
   },
   "outputs": [],
   "source": [
    "5//2 #floor divisionc"
   ]
  },
  {
   "cell_type": "markdown",
   "id": "449fd742",
   "metadata": {},
   "source": [
    "# IF ELSE"
   ]
  },
  {
   "cell_type": "code",
   "execution_count": null,
   "id": "4d3ad41f",
   "metadata": {
    "ExecuteTime": {
     "end_time": "2022-06-18T09:03:53.075205Z",
     "start_time": "2022-06-18T09:03:53.064208Z"
    }
   },
   "outputs": [],
   "source": [
    "if 5 > 2:\n",
    "print('greater!')"
   ]
  },
  {
   "cell_type": "code",
   "execution_count": null,
   "id": "b14cd6d8",
   "metadata": {
    "ExecuteTime": {
     "end_time": "2022-06-18T09:04:27.434976Z",
     "start_time": "2022-06-18T09:04:27.421974Z"
    }
   },
   "outputs": [],
   "source": [
    "if 5 > 2:\n",
    "    print('greater!')"
   ]
  },
  {
   "cell_type": "code",
   "execution_count": null,
   "id": "c39ec921",
   "metadata": {
    "ExecuteTime": {
     "end_time": "2022-06-18T09:06:37.276381Z",
     "start_time": "2022-06-18T09:06:37.267345Z"
    }
   },
   "outputs": [],
   "source": [
    "if 'cat' != 'CaT':\n",
    "    print('not equal!')\n",
    "    print('blah blah!')\n",
    "else:\n",
    "    print('they are equal!')"
   ]
  },
  {
   "cell_type": "code",
   "execution_count": null,
   "id": "f124f89a",
   "metadata": {
    "ExecuteTime": {
     "end_time": "2022-06-18T09:07:19.301792Z",
     "start_time": "2022-06-18T09:07:19.278786Z"
    }
   },
   "outputs": [],
   "source": [
    "if 'cat' != 'CaT'.lower():\n",
    "    print('not equal!')\n",
    "    print('blah blah!')\n",
    "else:\n",
    "    print('they are equal!')"
   ]
  },
  {
   "cell_type": "code",
   "execution_count": null,
   "id": "cc30dfa7",
   "metadata": {
    "ExecuteTime": {
     "end_time": "2022-06-18T09:07:33.216700Z",
     "start_time": "2022-06-18T09:07:33.197703Z"
    }
   },
   "outputs": [],
   "source": [
    "'CaT'.lower()"
   ]
  },
  {
   "cell_type": "code",
   "execution_count": null,
   "id": "05673686",
   "metadata": {
    "ExecuteTime": {
     "end_time": "2022-06-18T09:15:43.625956Z",
     "start_time": "2022-06-18T09:15:43.619967Z"
    }
   },
   "outputs": [],
   "source": [
    "pet = 'dog'\n",
    "\n",
    "if pet == 'cat':\n",
    "    print('it is a cat!')\n",
    "    \n",
    "if pet == 'dog':\n",
    "    print('it is a dog!')\n"
   ]
  },
  {
   "cell_type": "code",
   "execution_count": null,
   "id": "51c5676e",
   "metadata": {},
   "outputs": [],
   "source": [
    "# this is where Ahsan joined"
   ]
  },
  {
   "cell_type": "code",
   "execution_count": null,
   "id": "339aab35",
   "metadata": {
    "ExecuteTime": {
     "end_time": "2022-06-24T12:53:10.194708Z",
     "start_time": "2022-06-24T12:53:10.183711Z"
    }
   },
   "outputs": [],
   "source": [
    "x = -1\n",
    "\n",
    "if 0 <= x <= 100:\n",
    "    print('it is between 0 and 100!')\n",
    "else:\n",
    "    print('it is NOT between 0 and 100!')"
   ]
  },
  {
   "cell_type": "code",
   "execution_count": null,
   "id": "8ee8db56",
   "metadata": {
    "ExecuteTime": {
     "end_time": "2022-06-24T13:00:09.743577Z",
     "start_time": "2022-06-24T13:00:09.723567Z"
    }
   },
   "outputs": [],
   "source": [
    "x = -1\n",
    "\n",
    "if 0 <= x <= 100:\n",
    "    print('it is between 0 and 100!')\n",
    "elif x < 0:\n",
    "    print('it is a negative number!')\n",
    "else:\n",
    "    print('it is NOT between 0 and 100! \\n it is not negative!')"
   ]
  },
  {
   "cell_type": "code",
   "execution_count": null,
   "id": "8948566c",
   "metadata": {
    "ExecuteTime": {
     "end_time": "2022-06-24T13:06:46.669836Z",
     "start_time": "2022-06-24T13:06:46.648806Z"
    }
   },
   "outputs": [],
   "source": [
    "x = 'i am not there'\n",
    "y = 'i am there'\n",
    "\n",
    "if x == 'i am not there':\n",
    "    print('No Hello!')\n",
    "elif y == 'i am there':\n",
    "    print('Hello!')\n",
    "else:\n",
    "    print('Goodbye!')"
   ]
  },
  {
   "cell_type": "code",
   "execution_count": null,
   "id": "ef151e2a",
   "metadata": {
    "ExecuteTime": {
     "end_time": "2022-06-24T13:07:37.202355Z",
     "start_time": "2022-06-24T13:07:37.182357Z"
    }
   },
   "outputs": [],
   "source": [
    "x = 'i am not there'\n",
    "y = 'i am there'\n",
    "\n",
    "if x == 'i am not there':\n",
    "    print('No Hello!')\n",
    "if y == 'i am there':\n",
    "    print('Hello!')\n",
    "else:\n",
    "    print('Goodbye!')"
   ]
  },
  {
   "cell_type": "code",
   "execution_count": null,
   "id": "84152db7",
   "metadata": {
    "ExecuteTime": {
     "end_time": "2022-06-24T13:10:02.547573Z",
     "start_time": "2022-06-24T13:10:02.528572Z"
    }
   },
   "outputs": [],
   "source": [
    "x = 'i there'\n",
    "y = 'i am there'\n",
    "\n",
    "if x == 'i am not there':\n",
    "    print('No Hello!')\n",
    "if y == 'i am there':\n",
    "    print('Hello!')\n",
    "else:\n",
    "    print('Goodbye!')"
   ]
  },
  {
   "cell_type": "code",
   "execution_count": null,
   "id": "66c12f87",
   "metadata": {
    "ExecuteTime": {
     "end_time": "2022-06-24T13:13:25.904346Z",
     "start_time": "2022-06-24T13:13:25.880347Z"
    }
   },
   "outputs": [],
   "source": [
    "if 5 < 10:\n",
    "    print('left')\n",
    "    if 2 < 7:\n",
    "        print('right')"
   ]
  },
  {
   "cell_type": "code",
   "execution_count": null,
   "id": "fa8bef82",
   "metadata": {
    "ExecuteTime": {
     "end_time": "2022-06-24T13:21:38.619381Z",
     "start_time": "2022-06-24T13:21:38.597381Z"
    }
   },
   "outputs": [],
   "source": [
    "marks = 6\n",
    "\n",
    "if 0 < marks <= 5 :\n",
    "    print('probation!')\n",
    "    if 5 < marks < 7:\n",
    "        print('barely pass')\n",
    "        if 7 < marks < 9:\n",
    "            print('good work!')\n",
    "            if 9 < marks <= 10:\n",
    "                print('Excellent!')\n",
    "#             else:\n",
    "#                 print('invalid')"
   ]
  },
  {
   "cell_type": "code",
   "execution_count": null,
   "id": "8746877c",
   "metadata": {
    "ExecuteTime": {
     "end_time": "2022-06-24T13:29:16.532931Z",
     "start_time": "2022-06-24T13:29:16.521929Z"
    }
   },
   "outputs": [],
   "source": [
    "# if  marks > 5 and marks < 10: ->       5 marks < 10"
   ]
  },
  {
   "cell_type": "code",
   "execution_count": null,
   "id": "66aa96df",
   "metadata": {
    "ExecuteTime": {
     "end_time": "2022-06-24T13:30:54.710402Z",
     "start_time": "2022-06-24T13:30:54.689300Z"
    }
   },
   "outputs": [],
   "source": [
    "marks = 100\n",
    "\n",
    "if 0 < marks <= 5 :\n",
    "    print('probation!')\n",
    "elif 5 < marks < 7:\n",
    "    print('barely pass')\n",
    "elif 7 < marks < 9:\n",
    "    print('good work!')\n",
    "elif 9 < marks <= 10:\n",
    "    print('Excellent!')\n",
    "else:\n",
    "    print('invalid')"
   ]
  },
  {
   "cell_type": "code",
   "execution_count": null,
   "id": "f4fc8be8",
   "metadata": {
    "ExecuteTime": {
     "end_time": "2022-06-24T13:36:52.610621Z",
     "start_time": "2022-06-24T13:36:48.860106Z"
    }
   },
   "outputs": [],
   "source": [
    "height = input('Enter height: ')\n",
    "weight = input('Enter weight: ')"
   ]
  },
  {
   "cell_type": "code",
   "execution_count": null,
   "id": "8f5b69f5",
   "metadata": {
    "ExecuteTime": {
     "end_time": "2022-06-24T13:34:33.338196Z",
     "start_time": "2022-06-24T13:34:33.320195Z"
    }
   },
   "outputs": [],
   "source": [
    "print(\"height is:\", height)\n",
    "print(\"weight is:\", weight)"
   ]
  },
  {
   "cell_type": "code",
   "execution_count": null,
   "id": "0178a36e",
   "metadata": {
    "ExecuteTime": {
     "end_time": "2022-06-24T13:35:12.325971Z",
     "start_time": "2022-06-24T13:35:12.302923Z"
    }
   },
   "outputs": [],
   "source": [
    "print(\"height is:\", height, \"weight is:\", weight)"
   ]
  },
  {
   "cell_type": "code",
   "execution_count": null,
   "id": "81dad2ca",
   "metadata": {
    "ExecuteTime": {
     "end_time": "2022-06-24T13:37:40.576152Z",
     "start_time": "2022-06-24T13:37:40.558153Z"
    }
   },
   "outputs": [],
   "source": [
    "print(type(height))\n",
    "print(type(weight))"
   ]
  },
  {
   "cell_type": "code",
   "execution_count": null,
   "id": "0b3058a4",
   "metadata": {
    "ExecuteTime": {
     "end_time": "2022-06-24T13:39:31.442859Z",
     "start_time": "2022-06-24T13:39:31.422036Z"
    }
   },
   "outputs": [],
   "source": [
    "int(height)"
   ]
  },
  {
   "cell_type": "code",
   "execution_count": null,
   "id": "5f9a6cdc",
   "metadata": {
    "ExecuteTime": {
     "end_time": "2022-06-24T13:39:40.383071Z",
     "start_time": "2022-06-24T13:39:40.366617Z"
    }
   },
   "outputs": [],
   "source": [
    "height"
   ]
  },
  {
   "cell_type": "code",
   "execution_count": null,
   "id": "ab4e61ee",
   "metadata": {
    "ExecuteTime": {
     "end_time": "2022-06-24T13:41:36.807327Z",
     "start_time": "2022-06-24T13:41:36.787332Z"
    }
   },
   "outputs": [],
   "source": [
    "float(height)"
   ]
  },
  {
   "cell_type": "code",
   "execution_count": null,
   "id": "1d485563",
   "metadata": {
    "ExecuteTime": {
     "end_time": "2022-06-24T13:45:17.042740Z",
     "start_time": "2022-06-24T13:45:17.026736Z"
    }
   },
   "outputs": [],
   "source": [
    "int, float, str(height)"
   ]
  },
  {
   "cell_type": "code",
   "execution_count": null,
   "id": "fe11e70f",
   "metadata": {
    "ExecuteTime": {
     "end_time": "2022-06-24T13:48:59.184276Z",
     "start_time": "2022-06-24T13:48:46.357319Z"
    }
   },
   "outputs": [],
   "source": [
    "height = float(input('Enter height: '))\n",
    "weight = float(input('Enter weight: '))\n",
    "\n",
    "print(type(height))\n",
    "print(type(weight))"
   ]
  },
  {
   "cell_type": "markdown",
   "id": "e0d2f19d",
   "metadata": {},
   "source": [
    "Logical Operators\n",
    "1. NOT\n",
    "2. AND (aur)\n",
    "3. OR (ya)"
   ]
  },
  {
   "cell_type": "code",
   "execution_count": null,
   "id": "82911d78",
   "metadata": {
    "ExecuteTime": {
     "end_time": "2022-06-24T14:11:22.967550Z",
     "start_time": "2022-06-24T14:11:11.407980Z"
    }
   },
   "outputs": [],
   "source": [
    "gpa = float(input('gpa:'))\n",
    "test_marks = int(input('marks:'))\n",
    "sports = input('sports:')"
   ]
  },
  {
   "cell_type": "code",
   "execution_count": null,
   "id": "ea15a61a",
   "metadata": {
    "ExecuteTime": {
     "end_time": "2022-06-24T14:14:04.266147Z",
     "start_time": "2022-06-24T14:14:04.246147Z"
    }
   },
   "outputs": [],
   "source": [
    "if (gpa > 3.5 and marks > 90) or sports == 'T':\n",
    "    print('Admission granted!')\n",
    "else:\n",
    "    print('Admission NOT granted!')"
   ]
  },
  {
   "cell_type": "code",
   "execution_count": null,
   "id": "88b271e7",
   "metadata": {
    "ExecuteTime": {
     "end_time": "2022-06-24T14:14:36.519793Z",
     "start_time": "2022-06-24T14:14:25.483016Z"
    }
   },
   "outputs": [],
   "source": [
    "gpa = float(input('gpa:'))\n",
    "test_marks = int(input('marks:'))\n",
    "sports = input('sports:')"
   ]
  },
  {
   "cell_type": "code",
   "execution_count": null,
   "id": "83463954",
   "metadata": {
    "ExecuteTime": {
     "end_time": "2022-06-24T14:14:45.166549Z",
     "start_time": "2022-06-24T14:14:45.143497Z"
    }
   },
   "outputs": [],
   "source": [
    "if (gpa > 3.5 and marks > 90) or sports == 'T':\n",
    "    print('Admission granted!')\n",
    "else:\n",
    "    print('Admission NOT granted!')"
   ]
  },
  {
   "cell_type": "code",
   "execution_count": null,
   "id": "45ca6aa5",
   "metadata": {
    "ExecuteTime": {
     "end_time": "2022-06-24T14:18:07.879909Z",
     "start_time": "2022-06-24T14:18:00.790034Z"
    }
   },
   "outputs": [],
   "source": [
    "gpa = float(input('gpa:'))\n",
    "test_marks = int(input('marks:'))\n",
    "sports = input('sports:')"
   ]
  },
  {
   "cell_type": "code",
   "execution_count": null,
   "id": "2137364a",
   "metadata": {
    "ExecuteTime": {
     "end_time": "2022-06-24T14:18:36.116034Z",
     "start_time": "2022-06-24T14:18:36.093032Z"
    }
   },
   "outputs": [],
   "source": [
    "if gpa > 3.5 or marks > 90 or sports == 'T':\n",
    "    print('Admission granted!')\n",
    "else:\n",
    "    print('Admission NOT granted!')"
   ]
  },
  {
   "cell_type": "code",
   "execution_count": null,
   "id": "8ff416e7",
   "metadata": {},
   "outputs": [],
   "source": []
  }
 ],
 "metadata": {
  "kernelspec": {
   "display_name": "Python 3 (ipykernel)",
   "language": "python",
   "name": "python3"
  },
  "language_info": {
   "codemirror_mode": {
    "name": "ipython",
    "version": 3
   },
   "file_extension": ".py",
   "mimetype": "text/x-python",
   "name": "python",
   "nbconvert_exporter": "python",
   "pygments_lexer": "ipython3",
   "version": "3.10.9"
  },
  "toc": {
   "base_numbering": 1,
   "nav_menu": {},
   "number_sections": true,
   "sideBar": true,
   "skip_h1_title": false,
   "title_cell": "Table of Contents",
   "title_sidebar": "Contents",
   "toc_cell": false,
   "toc_position": {},
   "toc_section_display": true,
   "toc_window_display": false
  },
  "varInspector": {
   "cols": {
    "lenName": 16,
    "lenType": 16,
    "lenVar": 40
   },
   "kernels_config": {
    "python": {
     "delete_cmd_postfix": "",
     "delete_cmd_prefix": "del ",
     "library": "var_list.py",
     "varRefreshCmd": "print(var_dic_list())"
    },
    "r": {
     "delete_cmd_postfix": ") ",
     "delete_cmd_prefix": "rm(",
     "library": "var_list.r",
     "varRefreshCmd": "cat(var_dic_list()) "
    }
   },
   "types_to_exclude": [
    "module",
    "function",
    "builtin_function_or_method",
    "instance",
    "_Feature"
   ],
   "window_display": false
  }
 },
 "nbformat": 4,
 "nbformat_minor": 5
}
