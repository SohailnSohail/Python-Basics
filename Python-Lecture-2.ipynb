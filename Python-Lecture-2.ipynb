{
 "cells": [
  {
   "cell_type": "markdown",
   "id": "f00d7888",
   "metadata": {},
   "source": [
    "# LISTS - (think of it like an array but don't call it an array)\n",
    "\n",
    "* `[ 1, 2, 3, 4]`\n",
    "* Linear Data Structure\n",
    "* Lists are iterable."
   ]
  },
  {
   "cell_type": "code",
   "execution_count": 9,
   "id": "142e91d8",
   "metadata": {
    "ExecuteTime": {
     "end_time": "2022-06-25T08:16:11.991564Z",
     "start_time": "2022-06-25T08:16:11.982563Z"
    }
   },
   "outputs": [
    {
     "name": "stdout",
     "output_type": "stream",
     "text": [
      "<class 'list'>\n",
      "[0, 1, 2, 3, 4, 5]\n"
     ]
    }
   ],
   "source": [
    "some_numbers = [0,1,2,3,4,5]\n",
    "print(type(some_numbers))\n",
    "print(some_numbers)"
   ]
  },
  {
   "cell_type": "code",
   "execution_count": 10,
   "id": "d1de08ba",
   "metadata": {
    "ExecuteTime": {
     "end_time": "2022-06-25T08:16:12.007563Z",
     "start_time": "2022-06-25T08:16:11.993567Z"
    }
   },
   "outputs": [
    {
     "name": "stdout",
     "output_type": "stream",
     "text": [
      "<class 'list'>\n",
      "[0, 1.1, 2, 5, 'Ahmed', 'X']\n"
     ]
    }
   ],
   "source": [
    "mixed_list = [0,1.1,2,5,'Ahmed','X']\n",
    "print(type(mixed_list))\n",
    "print(mixed_list)"
   ]
  },
  {
   "cell_type": "code",
   "execution_count": 11,
   "id": "74479eaf",
   "metadata": {
    "ExecuteTime": {
     "end_time": "2022-06-25T08:16:12.023564Z",
     "start_time": "2022-06-25T08:16:12.009565Z"
    }
   },
   "outputs": [
    {
     "name": "stdout",
     "output_type": "stream",
     "text": [
      "Ahmed\n",
      "1.1\n",
      "<class 'str'>\n",
      "<class 'float'>\n"
     ]
    }
   ],
   "source": [
    "# Indexing\n",
    "print(mixed_list[4])\n",
    "print(mixed_list[1])\n",
    "\n",
    "print(type(mixed_list[4]))\n",
    "print(type(mixed_list[1]))"
   ]
  },
  {
   "cell_type": "code",
   "execution_count": 12,
   "id": "4a8d60f3",
   "metadata": {
    "ExecuteTime": {
     "end_time": "2022-06-25T08:16:12.039563Z",
     "start_time": "2022-06-25T08:16:12.026567Z"
    }
   },
   "outputs": [
    {
     "name": "stdout",
     "output_type": "stream",
     "text": [
      "Ahmed\n",
      "0\n"
     ]
    }
   ],
   "source": [
    "print(mixed_list[-2])\n",
    "print(mixed_list[-6])"
   ]
  },
  {
   "cell_type": "code",
   "execution_count": 13,
   "id": "380f3372",
   "metadata": {
    "ExecuteTime": {
     "end_time": "2022-06-25T08:16:12.055562Z",
     "start_time": "2022-06-25T08:16:12.040564Z"
    }
   },
   "outputs": [
    {
     "name": "stdout",
     "output_type": "stream",
     "text": [
      "e\n",
      "d\n"
     ]
    }
   ],
   "source": [
    "print(mixed_list[-2][-2])\n",
    "print(mixed_list[-2][4])"
   ]
  },
  {
   "cell_type": "code",
   "execution_count": 14,
   "id": "0f1709ec",
   "metadata": {
    "ExecuteTime": {
     "end_time": "2022-06-25T08:16:12.071563Z",
     "start_time": "2022-06-25T08:16:12.056563Z"
    }
   },
   "outputs": [
    {
     "name": "stdout",
     "output_type": "stream",
     "text": [
      "[] []\n"
     ]
    }
   ],
   "source": [
    "empty_list = []\n",
    "empty_list2 = list()\n",
    "print(empty_list, empty_list2)"
   ]
  },
  {
   "cell_type": "markdown",
   "id": "ee0a6468",
   "metadata": {},
   "source": [
    "## Slicing"
   ]
  },
  {
   "cell_type": "code",
   "execution_count": 15,
   "id": "defcefcd",
   "metadata": {
    "ExecuteTime": {
     "end_time": "2022-06-25T08:17:06.954846Z",
     "start_time": "2022-06-25T08:17:06.927864Z"
    }
   },
   "outputs": [
    {
     "data": {
      "text/plain": [
       "['JCBD', 'KHI', 'LHR', 'ISD', 'MLT', 'GUJ']"
      ]
     },
     "execution_count": 15,
     "metadata": {},
     "output_type": "execute_result"
    }
   ],
   "source": [
    "cities = ['FSD', 'KHI', 'LHR', 'ISD', 'MLT', 'GUJ']\n",
    "cities"
   ]
  },
  {
   "cell_type": "code",
   "execution_count": 16,
   "id": "82728390",
   "metadata": {
    "ExecuteTime": {
     "end_time": "2022-06-25T08:17:32.746965Z",
     "start_time": "2022-06-25T08:17:32.636971Z"
    }
   },
   "outputs": [
    {
     "ename": "TypeError",
     "evalue": "'str' object does not support item assignment",
     "output_type": "error",
     "traceback": [
      "\u001b[1;31m---------------------------------------------------------------------------\u001b[0m",
      "\u001b[1;31mTypeError\u001b[0m                                 Traceback (most recent call last)",
      "\u001b[1;32m~\\AppData\\Local\\Temp\\ipykernel_20960\\3308083533.py\u001b[0m in \u001b[0;36m<module>\u001b[1;34m\u001b[0m\n\u001b[1;32m----> 1\u001b[1;33m \u001b[1;34m\"Muaaz\"\u001b[0m\u001b[1;33m[\u001b[0m\u001b[1;36m1\u001b[0m\u001b[1;33m]\u001b[0m \u001b[1;33m=\u001b[0m \u001b[1;34m\"I\"\u001b[0m\u001b[1;33m\u001b[0m\u001b[1;33m\u001b[0m\u001b[0m\n\u001b[0m",
      "\u001b[1;31mTypeError\u001b[0m: 'str' object does not support item assignment"
     ]
    }
   ],
   "source": [
    "\"Muaaz\"[1] = \"I\""
   ]
  },
  {
   "cell_type": "code",
   "execution_count": 36,
   "id": "933007ba",
   "metadata": {
    "ExecuteTime": {
     "end_time": "2022-06-25T08:30:19.849111Z",
     "start_time": "2022-06-25T08:30:19.826109Z"
    }
   },
   "outputs": [
    {
     "name": "stdout",
     "output_type": "stream",
     "text": [
      "['FSD', 'KHI']\n",
      "['LHR', 'ISD', 'MLT']\n",
      "['FSD', 'KHI', 'LHR', 'ISD', 'MLT', 'GUJ']\n",
      "['KHI', 'LHR', 'ISD', 'MLT', 'GUJ']\n",
      "['FSD', 'KHI', 'LHR']\n",
      "['ISD', 'MLT', 'GUJ']\n",
      "['KHI', 'LHR', 'ISD', 'MLT']\n",
      "['KHI', 'LHR', 'ISD']\n",
      "['FSD', 'KHI', 'LHR', 'ISD', 'MLT']\n",
      "[]\n"
     ]
    }
   ],
   "source": [
    "cities = ['FSD', 'KHI', 'LHR', 'ISD', 'MLT', 'GUJ']\n",
    "\n",
    "print(cities[0:2])\n",
    "print(cities[2:5])\n",
    "print(cities[:])\n",
    "\n",
    "print(cities[1:])\n",
    "print(cities[:3])\n",
    "\n",
    "print(cities[-3:])\n",
    "print(cities[-5:5])\n",
    "\n",
    "print(cities[1:-2])\n",
    "print(cities[:-1])\n",
    "print(cities[-1:-1])"
   ]
  },
  {
   "cell_type": "code",
   "execution_count": 24,
   "id": "04e994a3",
   "metadata": {
    "ExecuteTime": {
     "end_time": "2022-06-25T08:20:56.712104Z",
     "start_time": "2022-06-25T08:20:56.703082Z"
    }
   },
   "outputs": [
    {
     "name": "stdout",
     "output_type": "stream",
     "text": [
      "[]\n",
      "['FSD']\n",
      "<class 'list'>\n"
     ]
    }
   ],
   "source": [
    "print(cities[0:0])\n",
    "print(cities[0:1])\n",
    "\n",
    "print(type(cities[0:1]))"
   ]
  },
  {
   "cell_type": "markdown",
   "id": "c529fa4e",
   "metadata": {},
   "source": [
    "## Adding & Changing Elements"
   ]
  },
  {
   "cell_type": "code",
   "execution_count": 37,
   "id": "75a38ca4",
   "metadata": {
    "ExecuteTime": {
     "end_time": "2022-06-25T08:34:58.017863Z",
     "start_time": "2022-06-25T08:34:58.009868Z"
    }
   },
   "outputs": [],
   "source": [
    "cities = ['FSD', 'KHI', 'LHR', 'ISD', 'MLT', 'GUJ']\n",
    "\n",
    "cities[-6] = 'JCBD'"
   ]
  },
  {
   "cell_type": "code",
   "execution_count": 38,
   "id": "509439ed",
   "metadata": {
    "ExecuteTime": {
     "end_time": "2022-06-25T08:35:01.490323Z",
     "start_time": "2022-06-25T08:35:01.471325Z"
    }
   },
   "outputs": [
    {
     "name": "stdout",
     "output_type": "stream",
     "text": [
      "['JCBD', 'KHI', 'LHR', 'ISD', 'MLT', 'GUJ']\n"
     ]
    }
   ],
   "source": [
    "print(cities)"
   ]
  },
  {
   "cell_type": "code",
   "execution_count": 39,
   "id": "d4d3f829",
   "metadata": {
    "ExecuteTime": {
     "end_time": "2022-06-25T08:35:33.264467Z",
     "start_time": "2022-06-25T08:35:33.241458Z"
    }
   },
   "outputs": [
    {
     "data": {
      "text/plain": [
       "['JCBD', 'KHI', 'LHR', 'ISD', 'MLT', 'GUJ', 'HYD']"
      ]
     },
     "execution_count": 39,
     "metadata": {},
     "output_type": "execute_result"
    }
   ],
   "source": [
    "cities.append(\"HYD\")\n",
    "cities"
   ]
  },
  {
   "cell_type": "code",
   "execution_count": 40,
   "id": "14a353c5",
   "metadata": {
    "ExecuteTime": {
     "end_time": "2022-06-25T08:35:52.846544Z",
     "start_time": "2022-06-25T08:35:52.828548Z"
    }
   },
   "outputs": [
    {
     "name": "stdout",
     "output_type": "stream",
     "text": [
      "Help on method_descriptor:\n",
      "\n",
      "append(self, object, /)\n",
      "    Append object to the end of the list.\n",
      "\n"
     ]
    }
   ],
   "source": [
    "help(list.append)"
   ]
  },
  {
   "cell_type": "code",
   "execution_count": 41,
   "id": "d379b3f6",
   "metadata": {
    "ExecuteTime": {
     "end_time": "2022-06-25T08:36:35.462849Z",
     "start_time": "2022-06-25T08:36:35.447851Z"
    }
   },
   "outputs": [
    {
     "data": {
      "text/plain": [
       "[0, 2, 4, 6, 8]"
      ]
     },
     "execution_count": 41,
     "metadata": {},
     "output_type": "execute_result"
    }
   ],
   "source": [
    "even_numbers = [0, 2, 4, 6]\n",
    "even_numbers.append(8)\n",
    "even_numbers"
   ]
  },
  {
   "cell_type": "code",
   "execution_count": 44,
   "id": "04bd2e08",
   "metadata": {
    "ExecuteTime": {
     "end_time": "2022-06-25T08:39:38.387769Z",
     "start_time": "2022-06-25T08:39:38.377774Z"
    }
   },
   "outputs": [],
   "source": [
    "cities = cities + ['Peshawar', 'Balakot']"
   ]
  },
  {
   "cell_type": "code",
   "execution_count": 45,
   "id": "85c91fa9",
   "metadata": {
    "ExecuteTime": {
     "end_time": "2022-06-25T08:39:40.207975Z",
     "start_time": "2022-06-25T08:39:40.192977Z"
    }
   },
   "outputs": [
    {
     "data": {
      "text/plain": [
       "['JCBD', 'KHI', 'LHR', 'ISD', 'MLT', 'GUJ', 'HYD', 'Peshawar', 'Balakot']"
      ]
     },
     "execution_count": 45,
     "metadata": {},
     "output_type": "execute_result"
    }
   ],
   "source": [
    "cities"
   ]
  },
  {
   "cell_type": "code",
   "execution_count": 46,
   "id": "71fbe00f",
   "metadata": {
    "ExecuteTime": {
     "end_time": "2022-06-25T08:40:39.672951Z",
     "start_time": "2022-06-25T08:40:39.653952Z"
    }
   },
   "outputs": [],
   "source": [
    "cities += ['Layyah', 'Samundri']"
   ]
  },
  {
   "cell_type": "code",
   "execution_count": 47,
   "id": "636b435a",
   "metadata": {
    "ExecuteTime": {
     "end_time": "2022-06-25T08:40:42.806930Z",
     "start_time": "2022-06-25T08:40:42.796936Z"
    }
   },
   "outputs": [
    {
     "data": {
      "text/plain": [
       "['JCBD',\n",
       " 'KHI',\n",
       " 'LHR',\n",
       " 'ISD',\n",
       " 'MLT',\n",
       " 'GUJ',\n",
       " 'HYD',\n",
       " 'Peshawar',\n",
       " 'Balakot',\n",
       " 'Layyah',\n",
       " 'Samundri']"
      ]
     },
     "execution_count": 47,
     "metadata": {},
     "output_type": "execute_result"
    }
   ],
   "source": [
    "cities"
   ]
  },
  {
   "cell_type": "code",
   "execution_count": 48,
   "id": "f00ed45f",
   "metadata": {
    "ExecuteTime": {
     "end_time": "2022-06-25T08:41:24.655051Z",
     "start_time": "2022-06-25T08:41:24.636048Z"
    }
   },
   "outputs": [
    {
     "data": {
      "text/plain": [
       "['JCBD',\n",
       " 'KHI',\n",
       " 'LHR',\n",
       " 'ISD',\n",
       " 'MLT',\n",
       " 'GUJ',\n",
       " 'HYD',\n",
       " 'Peshawar',\n",
       " 'Balakot',\n",
       " 'Layyah',\n",
       " 'Samundri',\n",
       " 'Toba',\n",
       " 'Jhang']"
      ]
     },
     "execution_count": 48,
     "metadata": {},
     "output_type": "execute_result"
    }
   ],
   "source": [
    "cities.extend(['Toba', 'Jhang'])\n",
    "cities"
   ]
  },
  {
   "cell_type": "code",
   "execution_count": 50,
   "id": "89d2a234",
   "metadata": {
    "ExecuteTime": {
     "end_time": "2022-06-25T08:42:03.609292Z",
     "start_time": "2022-06-25T08:42:03.593292Z"
    }
   },
   "outputs": [
    {
     "name": "stdout",
     "output_type": "stream",
     "text": [
      "Help on method_descriptor:\n",
      "\n",
      "extend(self, iterable, /)\n",
      "    Extend list by appending elements from the iterable.\n",
      "\n"
     ]
    }
   ],
   "source": [
    "help(list.extend)"
   ]
  },
  {
   "cell_type": "code",
   "execution_count": 53,
   "id": "1c95e047",
   "metadata": {
    "ExecuteTime": {
     "end_time": "2022-06-25T08:44:19.400908Z",
     "start_time": "2022-06-25T08:44:19.387941Z"
    }
   },
   "outputs": [
    {
     "name": "stdout",
     "output_type": "stream",
     "text": [
      "13\n",
      "4\n"
     ]
    }
   ],
   "source": [
    "print(len(cities))\n",
    "print(len([1, 2, 3, 4]))"
   ]
  },
  {
   "cell_type": "code",
   "execution_count": 54,
   "id": "0c1ff7f2",
   "metadata": {
    "ExecuteTime": {
     "end_time": "2022-06-25T08:44:32.725308Z",
     "start_time": "2022-06-25T08:44:32.709261Z"
    }
   },
   "outputs": [
    {
     "name": "stdout",
     "output_type": "stream",
     "text": [
      "['JCBD', 'KHI', 'LHR', 'ISD', 'MLT', 'GUJ', 'HYD', 'Peshawar', 'Balakot', 'Layyah', 'Samundri', 'Toba', 'Jhang']\n"
     ]
    }
   ],
   "source": [
    "print(cities)"
   ]
  },
  {
   "cell_type": "code",
   "execution_count": 55,
   "id": "5c271d23",
   "metadata": {
    "ExecuteTime": {
     "end_time": "2022-06-25T08:45:13.140477Z",
     "start_time": "2022-06-25T08:45:13.123446Z"
    }
   },
   "outputs": [
    {
     "name": "stdout",
     "output_type": "stream",
     "text": [
      "Help on method_descriptor:\n",
      "\n",
      "insert(self, index, object, /)\n",
      "    Insert object before index.\n",
      "\n"
     ]
    }
   ],
   "source": [
    "help(list.insert)"
   ]
  },
  {
   "cell_type": "code",
   "execution_count": 56,
   "id": "42d3d4e9",
   "metadata": {
    "ExecuteTime": {
     "end_time": "2022-06-25T08:46:07.201357Z",
     "start_time": "2022-06-25T08:46:07.197335Z"
    }
   },
   "outputs": [],
   "source": [
    "cities.insert(3, 'Murree')"
   ]
  },
  {
   "cell_type": "code",
   "execution_count": 57,
   "id": "dca12815",
   "metadata": {
    "ExecuteTime": {
     "end_time": "2022-06-25T08:46:13.587336Z",
     "start_time": "2022-06-25T08:46:13.568338Z"
    }
   },
   "outputs": [
    {
     "name": "stdout",
     "output_type": "stream",
     "text": [
      "['JCBD', 'KHI', 'LHR', 'Murree', 'ISD', 'MLT', 'GUJ', 'HYD', 'Peshawar', 'Balakot', 'Layyah', 'Samundri', 'Toba', 'Jhang']\n"
     ]
    }
   ],
   "source": [
    "print(cities)"
   ]
  },
  {
   "cell_type": "code",
   "execution_count": 58,
   "id": "3d1ce853",
   "metadata": {
    "ExecuteTime": {
     "end_time": "2022-06-25T08:47:22.725426Z",
     "start_time": "2022-06-25T08:47:22.715425Z"
    }
   },
   "outputs": [
    {
     "data": {
      "text/plain": [
       "['JCBD',\n",
       " 'KHI',\n",
       " 'LHR',\n",
       " ['Nathia Gali', 'Ghora Gali'],\n",
       " 'Murree',\n",
       " 'ISD',\n",
       " 'MLT',\n",
       " 'GUJ',\n",
       " 'HYD',\n",
       " 'Peshawar',\n",
       " 'Balakot',\n",
       " 'Layyah',\n",
       " 'Samundri',\n",
       " 'Toba',\n",
       " 'Jhang']"
      ]
     },
     "execution_count": 58,
     "metadata": {},
     "output_type": "execute_result"
    }
   ],
   "source": [
    "cities.insert(3, ['Nathia Gali', 'Ghora Gali'])\n",
    "cities"
   ]
  },
  {
   "cell_type": "code",
   "execution_count": 60,
   "id": "5a91f5b4",
   "metadata": {
    "ExecuteTime": {
     "end_time": "2022-06-25T08:51:37.283961Z",
     "start_time": "2022-06-25T08:51:37.276964Z"
    }
   },
   "outputs": [
    {
     "data": {
      "text/plain": [
       "'Gali'"
      ]
     },
     "execution_count": 60,
     "metadata": {},
     "output_type": "execute_result"
    }
   ],
   "source": [
    "cities[3][-1][-4:]"
   ]
  },
  {
   "cell_type": "markdown",
   "id": "5fa24447",
   "metadata": {},
   "source": [
    "## Removing & Deleting Elements"
   ]
  },
  {
   "cell_type": "code",
   "execution_count": 61,
   "id": "b073c8d7",
   "metadata": {
    "ExecuteTime": {
     "end_time": "2022-06-25T08:53:24.309692Z",
     "start_time": "2022-06-25T08:53:24.291692Z"
    }
   },
   "outputs": [
    {
     "data": {
      "text/plain": [
       "['JCBD',\n",
       " 'KHI',\n",
       " 'LHR',\n",
       " ['Nathia Gali', 'Ghora Gali'],\n",
       " 'Murree',\n",
       " 'ISD',\n",
       " 'MLT',\n",
       " 'GUJ',\n",
       " 'HYD',\n",
       " 'Peshawar',\n",
       " 'Balakot',\n",
       " 'Layyah',\n",
       " 'Samundri',\n",
       " 'Toba',\n",
       " 'Jhang']"
      ]
     },
     "execution_count": 61,
     "metadata": {},
     "output_type": "execute_result"
    }
   ],
   "source": [
    "cities"
   ]
  },
  {
   "cell_type": "code",
   "execution_count": 62,
   "id": "d1bb0e5d",
   "metadata": {
    "ExecuteTime": {
     "end_time": "2022-06-25T08:54:10.634003Z",
     "start_time": "2022-06-25T08:54:10.612006Z"
    }
   },
   "outputs": [
    {
     "data": {
      "text/plain": [
       "['JCBD',\n",
       " 'KHI',\n",
       " 'LHR',\n",
       " ['Nathia Gali', 'Ghora Gali'],\n",
       " 'Murree',\n",
       " 'ISD',\n",
       " 'MLT',\n",
       " 'HYD',\n",
       " 'Peshawar',\n",
       " 'Balakot',\n",
       " 'Layyah',\n",
       " 'Samundri',\n",
       " 'Toba',\n",
       " 'Jhang']"
      ]
     },
     "execution_count": 62,
     "metadata": {},
     "output_type": "execute_result"
    }
   ],
   "source": [
    "del cities[7]\n",
    "cities"
   ]
  },
  {
   "cell_type": "code",
   "execution_count": 63,
   "id": "76da1150",
   "metadata": {
    "ExecuteTime": {
     "end_time": "2022-06-25T08:55:46.705177Z",
     "start_time": "2022-06-25T08:55:46.686186Z"
    }
   },
   "outputs": [
    {
     "data": {
      "text/plain": [
       "['JCBD',\n",
       " 'KHI',\n",
       " 'LHR',\n",
       " ['Nathia Gali', 'Ghora Gali'],\n",
       " 'Murree',\n",
       " 'ISD',\n",
       " 'MLT',\n",
       " 'Balakot',\n",
       " 'Layyah',\n",
       " 'Samundri',\n",
       " 'Toba',\n",
       " 'Jhang']"
      ]
     },
     "execution_count": 63,
     "metadata": {},
     "output_type": "execute_result"
    }
   ],
   "source": [
    "del cities[7:9]\n",
    "cities"
   ]
  },
  {
   "cell_type": "code",
   "execution_count": 64,
   "id": "0298de18",
   "metadata": {
    "ExecuteTime": {
     "end_time": "2022-06-25T08:56:24.590122Z",
     "start_time": "2022-06-25T08:56:24.566074Z"
    }
   },
   "outputs": [
    {
     "ename": "NameError",
     "evalue": "name 'odd_numbers' is not defined",
     "output_type": "error",
     "traceback": [
      "\u001b[1;31m---------------------------------------------------------------------------\u001b[0m",
      "\u001b[1;31mNameError\u001b[0m                                 Traceback (most recent call last)",
      "\u001b[1;32m~\\AppData\\Local\\Temp\\ipykernel_20960\\3252608672.py\u001b[0m in \u001b[0;36m<module>\u001b[1;34m\u001b[0m\n\u001b[0;32m      1\u001b[0m \u001b[0modd_numbers\u001b[0m \u001b[1;33m=\u001b[0m \u001b[1;33m[\u001b[0m\u001b[1;36m1\u001b[0m\u001b[1;33m,\u001b[0m \u001b[1;36m3\u001b[0m\u001b[1;33m,\u001b[0m \u001b[1;36m5\u001b[0m\u001b[1;33m]\u001b[0m\u001b[1;33m\u001b[0m\u001b[1;33m\u001b[0m\u001b[0m\n\u001b[0;32m      2\u001b[0m \u001b[1;32mdel\u001b[0m \u001b[0modd_numbers\u001b[0m\u001b[1;33m\u001b[0m\u001b[1;33m\u001b[0m\u001b[0m\n\u001b[1;32m----> 3\u001b[1;33m \u001b[0modd_numbers\u001b[0m\u001b[1;33m\u001b[0m\u001b[1;33m\u001b[0m\u001b[0m\n\u001b[0m",
      "\u001b[1;31mNameError\u001b[0m: name 'odd_numbers' is not defined"
     ]
    }
   ],
   "source": [
    "odd_numbers = [1, 3, 5]\n",
    "del odd_numbers\n",
    "odd_numbers"
   ]
  },
  {
   "cell_type": "code",
   "execution_count": 65,
   "id": "fce9f711",
   "metadata": {
    "ExecuteTime": {
     "end_time": "2022-06-25T08:56:57.703531Z",
     "start_time": "2022-06-25T08:56:57.686534Z"
    }
   },
   "outputs": [
    {
     "data": {
      "text/plain": [
       "['JCBD',\n",
       " 'KHI',\n",
       " 'LHR',\n",
       " ['Nathia Gali', 'Ghora Gali'],\n",
       " 'Murree',\n",
       " 'ISD',\n",
       " 'MLT',\n",
       " 'Balakot',\n",
       " 'Layyah',\n",
       " 'Samundri',\n",
       " 'Toba',\n",
       " 'Jhang']"
      ]
     },
     "execution_count": 65,
     "metadata": {},
     "output_type": "execute_result"
    }
   ],
   "source": [
    "cities"
   ]
  },
  {
   "cell_type": "code",
   "execution_count": 66,
   "id": "16a6eb4f",
   "metadata": {
    "ExecuteTime": {
     "end_time": "2022-06-25T08:57:17.743603Z",
     "start_time": "2022-06-25T08:57:17.733604Z"
    }
   },
   "outputs": [
    {
     "data": {
      "text/plain": [
       "['KHI',\n",
       " 'LHR',\n",
       " ['Nathia Gali', 'Ghora Gali'],\n",
       " 'Murree',\n",
       " 'ISD',\n",
       " 'MLT',\n",
       " 'Balakot',\n",
       " 'Layyah',\n",
       " 'Samundri',\n",
       " 'Toba',\n",
       " 'Jhang']"
      ]
     },
     "execution_count": 66,
     "metadata": {},
     "output_type": "execute_result"
    }
   ],
   "source": [
    "cities.remove(\"JCBD\")\n",
    "cities"
   ]
  },
  {
   "cell_type": "code",
   "execution_count": 67,
   "id": "3362c65d",
   "metadata": {
    "ExecuteTime": {
     "end_time": "2022-06-25T08:57:28.437197Z",
     "start_time": "2022-06-25T08:57:28.428187Z"
    }
   },
   "outputs": [
    {
     "name": "stdout",
     "output_type": "stream",
     "text": [
      "Help on method_descriptor:\n",
      "\n",
      "remove(self, value, /)\n",
      "    Remove first occurrence of value.\n",
      "    \n",
      "    Raises ValueError if the value is not present.\n",
      "\n"
     ]
    }
   ],
   "source": [
    "help(list.remove)"
   ]
  },
  {
   "cell_type": "code",
   "execution_count": 69,
   "id": "c6288240",
   "metadata": {
    "ExecuteTime": {
     "end_time": "2022-06-25T09:03:27.385046Z",
     "start_time": "2022-06-25T09:03:27.367016Z"
    }
   },
   "outputs": [
    {
     "data": {
      "text/plain": [
       "['KHI',\n",
       " 'LHR',\n",
       " ['Nathia Gali', 'Ghora Gali'],\n",
       " 'Murree',\n",
       " 'Layyah',\n",
       " 'Samundri',\n",
       " 'Toba',\n",
       " 'Jhang']"
      ]
     },
     "execution_count": 69,
     "metadata": {},
     "output_type": "execute_result"
    }
   ],
   "source": [
    "cities2 = cities[:4] + cities[-4:]\n",
    "cities2"
   ]
  },
  {
   "cell_type": "markdown",
   "id": "885e1414",
   "metadata": {},
   "source": [
    "## Popping elements"
   ]
  },
  {
   "cell_type": "code",
   "execution_count": 70,
   "id": "dd12ac78",
   "metadata": {
    "ExecuteTime": {
     "end_time": "2022-06-25T09:05:17.688391Z",
     "start_time": "2022-06-25T09:05:17.669357Z"
    }
   },
   "outputs": [
    {
     "data": {
      "text/plain": [
       "'Jhang'"
      ]
     },
     "execution_count": 70,
     "metadata": {},
     "output_type": "execute_result"
    }
   ],
   "source": [
    "cities.pop()"
   ]
  },
  {
   "cell_type": "code",
   "execution_count": 71,
   "id": "6d05df42",
   "metadata": {
    "ExecuteTime": {
     "end_time": "2022-06-25T09:05:30.730945Z",
     "start_time": "2022-06-25T09:05:30.719912Z"
    }
   },
   "outputs": [
    {
     "data": {
      "text/plain": [
       "['KHI',\n",
       " 'LHR',\n",
       " ['Nathia Gali', 'Ghora Gali'],\n",
       " 'Murree',\n",
       " 'ISD',\n",
       " 'MLT',\n",
       " 'Balakot',\n",
       " 'Layyah',\n",
       " 'Samundri',\n",
       " 'Toba']"
      ]
     },
     "execution_count": 71,
     "metadata": {},
     "output_type": "execute_result"
    }
   ],
   "source": [
    "cities"
   ]
  },
  {
   "cell_type": "code",
   "execution_count": 72,
   "id": "d0f2abbf",
   "metadata": {
    "ExecuteTime": {
     "end_time": "2022-06-25T09:05:47.639793Z",
     "start_time": "2022-06-25T09:05:47.619794Z"
    }
   },
   "outputs": [
    {
     "name": "stdout",
     "output_type": "stream",
     "text": [
      "Help on method_descriptor:\n",
      "\n",
      "pop(self, index=-1, /)\n",
      "    Remove and return item at index (default last).\n",
      "    \n",
      "    Raises IndexError if list is empty or index is out of range.\n",
      "\n"
     ]
    }
   ],
   "source": [
    "help(list.pop)"
   ]
  },
  {
   "cell_type": "code",
   "execution_count": 73,
   "id": "9085d68d",
   "metadata": {
    "ExecuteTime": {
     "end_time": "2022-06-25T09:07:42.463084Z",
     "start_time": "2022-06-25T09:07:42.450085Z"
    }
   },
   "outputs": [
    {
     "name": "stdout",
     "output_type": "stream",
     "text": [
      "None\n"
     ]
    }
   ],
   "source": [
    "cities.insert(1, cities.pop(-2))"
   ]
  },
  {
   "cell_type": "code",
   "execution_count": 74,
   "id": "52805c6b",
   "metadata": {
    "ExecuteTime": {
     "end_time": "2022-06-25T09:07:53.161177Z",
     "start_time": "2022-06-25T09:07:53.147162Z"
    }
   },
   "outputs": [
    {
     "data": {
      "text/plain": [
       "['KHI',\n",
       " 'Samundri',\n",
       " 'LHR',\n",
       " ['Nathia Gali', 'Ghora Gali'],\n",
       " 'Murree',\n",
       " 'ISD',\n",
       " 'MLT',\n",
       " 'Balakot',\n",
       " 'Layyah',\n",
       " 'Toba']"
      ]
     },
     "execution_count": 74,
     "metadata": {},
     "output_type": "execute_result"
    }
   ],
   "source": [
    "cities"
   ]
  },
  {
   "cell_type": "code",
   "execution_count": 75,
   "id": "6269ae88",
   "metadata": {
    "ExecuteTime": {
     "end_time": "2022-06-25T09:11:20.699661Z",
     "start_time": "2022-06-25T09:11:20.685659Z"
    }
   },
   "outputs": [
    {
     "data": {
      "text/plain": [
       "['KHI',\n",
       " 'Layyah',\n",
       " 'LHR',\n",
       " ['Nathia Gali', 'Ghora Gali'],\n",
       " 'Murree',\n",
       " 'ISD',\n",
       " 'MLT',\n",
       " 'Balakot',\n",
       " 'Samundri',\n",
       " 'Toba']"
      ]
     },
     "execution_count": 75,
     "metadata": {},
     "output_type": "execute_result"
    }
   ],
   "source": [
    "cities.insert(-2, cities.pop(1))\n",
    "cities.insert(1, cities.pop(-2))\n",
    "cities"
   ]
  },
  {
   "cell_type": "markdown",
   "id": "afbecec0",
   "metadata": {},
   "source": [
    "## List of Lists OR Dataframe OR 2-D Array"
   ]
  },
  {
   "cell_type": "code",
   "execution_count": 76,
   "id": "3506efd2",
   "metadata": {
    "ExecuteTime": {
     "end_time": "2022-06-25T09:13:11.263859Z",
     "start_time": "2022-06-25T09:13:11.258827Z"
    }
   },
   "outputs": [],
   "source": [
    "menu = []\n",
    "breakfast = ['jam', 'bread', 'egg']\n",
    "lunch = ['biryani', 'daal', 'karahi']\n",
    "dinner = ['chicken rice', 'chicken ginger', 'sandwich']"
   ]
  },
  {
   "cell_type": "code",
   "execution_count": 79,
   "id": "3d1ff88a",
   "metadata": {
    "ExecuteTime": {
     "end_time": "2022-06-25T09:14:10.372315Z",
     "start_time": "2022-06-25T09:14:10.365314Z"
    }
   },
   "outputs": [],
   "source": [
    "menu = [breakfast, lunch, dinner]\n"
   ]
  },
  {
   "cell_type": "code",
   "execution_count": 80,
   "id": "00902751",
   "metadata": {
    "ExecuteTime": {
     "end_time": "2022-06-25T09:14:15.244630Z",
     "start_time": "2022-06-25T09:14:15.231640Z"
    }
   },
   "outputs": [
    {
     "data": {
      "text/plain": [
       "[['jam', 'bread', 'egg'],\n",
       " ['biryani', 'daal', 'karahi'],\n",
       " ['chicken rice', 'chicken ginger', 'sandwich']]"
      ]
     },
     "execution_count": 80,
     "metadata": {},
     "output_type": "execute_result"
    }
   ],
   "source": [
    "menu"
   ]
  },
  {
   "cell_type": "code",
   "execution_count": 81,
   "id": "b3572368",
   "metadata": {
    "ExecuteTime": {
     "end_time": "2022-06-25T09:14:50.231537Z",
     "start_time": "2022-06-25T09:14:50.212513Z"
    }
   },
   "outputs": [
    {
     "name": "stdout",
     "output_type": "stream",
     "text": [
      "chicken ginger\n"
     ]
    }
   ],
   "source": [
    "print(menu[2][-2])"
   ]
  },
  {
   "cell_type": "code",
   "execution_count": 82,
   "id": "641ddc90",
   "metadata": {
    "ExecuteTime": {
     "end_time": "2022-06-25T09:15:16.469106Z",
     "start_time": "2022-06-25T09:15:16.461072Z"
    }
   },
   "outputs": [
    {
     "name": "stdout",
     "output_type": "stream",
     "text": [
      "ginger\n"
     ]
    }
   ],
   "source": [
    "print(menu[2][-2][-6:])"
   ]
  },
  {
   "cell_type": "code",
   "execution_count": 2,
   "id": "0ac722b9",
   "metadata": {
    "ExecuteTime": {
     "end_time": "2022-07-01T12:56:58.460648Z",
     "start_time": "2022-07-01T12:56:58.429651Z"
    }
   },
   "outputs": [
    {
     "name": "stdout",
     "output_type": "stream",
     "text": [
      "Help on class list in module builtins:\n",
      "\n",
      "class list(object)\n",
      " |  list(iterable=(), /)\n",
      " |  \n",
      " |  Built-in mutable sequence.\n",
      " |  \n",
      " |  If no argument is given, the constructor creates a new empty list.\n",
      " |  The argument must be an iterable if specified.\n",
      " |  \n",
      " |  Methods defined here:\n",
      " |  \n",
      " |  __add__(self, value, /)\n",
      " |      Return self+value.\n",
      " |  \n",
      " |  __contains__(self, key, /)\n",
      " |      Return key in self.\n",
      " |  \n",
      " |  __delitem__(self, key, /)\n",
      " |      Delete self[key].\n",
      " |  \n",
      " |  __eq__(self, value, /)\n",
      " |      Return self==value.\n",
      " |  \n",
      " |  __ge__(self, value, /)\n",
      " |      Return self>=value.\n",
      " |  \n",
      " |  __getattribute__(self, name, /)\n",
      " |      Return getattr(self, name).\n",
      " |  \n",
      " |  __getitem__(...)\n",
      " |      x.__getitem__(y) <==> x[y]\n",
      " |  \n",
      " |  __gt__(self, value, /)\n",
      " |      Return self>value.\n",
      " |  \n",
      " |  __iadd__(self, value, /)\n",
      " |      Implement self+=value.\n",
      " |  \n",
      " |  __imul__(self, value, /)\n",
      " |      Implement self*=value.\n",
      " |  \n",
      " |  __init__(self, /, *args, **kwargs)\n",
      " |      Initialize self.  See help(type(self)) for accurate signature.\n",
      " |  \n",
      " |  __iter__(self, /)\n",
      " |      Implement iter(self).\n",
      " |  \n",
      " |  __le__(self, value, /)\n",
      " |      Return self<=value.\n",
      " |  \n",
      " |  __len__(self, /)\n",
      " |      Return len(self).\n",
      " |  \n",
      " |  __lt__(self, value, /)\n",
      " |      Return self<value.\n",
      " |  \n",
      " |  __mul__(self, value, /)\n",
      " |      Return self*value.\n",
      " |  \n",
      " |  __ne__(self, value, /)\n",
      " |      Return self!=value.\n",
      " |  \n",
      " |  __repr__(self, /)\n",
      " |      Return repr(self).\n",
      " |  \n",
      " |  __reversed__(self, /)\n",
      " |      Return a reverse iterator over the list.\n",
      " |  \n",
      " |  __rmul__(self, value, /)\n",
      " |      Return value*self.\n",
      " |  \n",
      " |  __setitem__(self, key, value, /)\n",
      " |      Set self[key] to value.\n",
      " |  \n",
      " |  __sizeof__(self, /)\n",
      " |      Return the size of the list in memory, in bytes.\n",
      " |  \n",
      " |  append(self, object, /)\n",
      " |      Append object to the end of the list.\n",
      " |  \n",
      " |  clear(self, /)\n",
      " |      Remove all items from list.\n",
      " |  \n",
      " |  copy(self, /)\n",
      " |      Return a shallow copy of the list.\n",
      " |  \n",
      " |  count(self, value, /)\n",
      " |      Return number of occurrences of value.\n",
      " |  \n",
      " |  extend(self, iterable, /)\n",
      " |      Extend list by appending elements from the iterable.\n",
      " |  \n",
      " |  index(self, value, start=0, stop=9223372036854775807, /)\n",
      " |      Return first index of value.\n",
      " |      \n",
      " |      Raises ValueError if the value is not present.\n",
      " |  \n",
      " |  insert(self, index, object, /)\n",
      " |      Insert object before index.\n",
      " |  \n",
      " |  pop(self, index=-1, /)\n",
      " |      Remove and return item at index (default last).\n",
      " |      \n",
      " |      Raises IndexError if list is empty or index is out of range.\n",
      " |  \n",
      " |  remove(self, value, /)\n",
      " |      Remove first occurrence of value.\n",
      " |      \n",
      " |      Raises ValueError if the value is not present.\n",
      " |  \n",
      " |  reverse(self, /)\n",
      " |      Reverse *IN PLACE*.\n",
      " |  \n",
      " |  sort(self, /, *, key=None, reverse=False)\n",
      " |      Stable sort *IN PLACE*.\n",
      " |  \n",
      " |  ----------------------------------------------------------------------\n",
      " |  Static methods defined here:\n",
      " |  \n",
      " |  __new__(*args, **kwargs) from builtins.type\n",
      " |      Create and return a new object.  See help(type) for accurate signature.\n",
      " |  \n",
      " |  ----------------------------------------------------------------------\n",
      " |  Data and other attributes defined here:\n",
      " |  \n",
      " |  __hash__ = None\n",
      "\n"
     ]
    }
   ],
   "source": [
    "#methods for lists\n",
    "\n",
    "help(list)"
   ]
  },
  {
   "cell_type": "code",
   "execution_count": 3,
   "id": "cecad808",
   "metadata": {
    "ExecuteTime": {
     "end_time": "2022-07-01T13:01:50.614873Z",
     "start_time": "2022-07-01T13:01:50.608868Z"
    }
   },
   "outputs": [
    {
     "name": "stdout",
     "output_type": "stream",
     "text": [
      "[1, 'A', 2.3, 'Ahmed']\n"
     ]
    }
   ],
   "source": [
    "some_list = [1, 'A', 2.3, 'Ahmed']\n",
    "\n",
    "print(some_list)"
   ]
  },
  {
   "cell_type": "code",
   "execution_count": 6,
   "id": "cf8eb073",
   "metadata": {
    "ExecuteTime": {
     "end_time": "2022-07-01T13:04:36.163632Z",
     "start_time": "2022-07-01T13:04:36.147634Z"
    }
   },
   "outputs": [
    {
     "ename": "AttributeError",
     "evalue": "type object 'list' has no attribute 'contains'",
     "output_type": "error",
     "traceback": [
      "\u001b[1;31m---------------------------------------------------------------------------\u001b[0m",
      "\u001b[1;31mAttributeError\u001b[0m                            Traceback (most recent call last)",
      "\u001b[1;32m~\\AppData\\Local\\Temp\\ipykernel_31148\\2384377345.py\u001b[0m in \u001b[0;36m<module>\u001b[1;34m\u001b[0m\n\u001b[1;32m----> 1\u001b[1;33m \u001b[0mhelp\u001b[0m\u001b[1;33m(\u001b[0m\u001b[0mlist\u001b[0m\u001b[1;33m.\u001b[0m\u001b[0mcontains\u001b[0m\u001b[1;33m(\u001b[0m\u001b[1;33m)\u001b[0m\u001b[1;33m)\u001b[0m\u001b[1;33m\u001b[0m\u001b[1;33m\u001b[0m\u001b[0m\n\u001b[0m",
      "\u001b[1;31mAttributeError\u001b[0m: type object 'list' has no attribute 'contains'"
     ]
    }
   ],
   "source": [
    "help(list.contains())"
   ]
  },
  {
   "cell_type": "code",
   "execution_count": 9,
   "id": "a661e63f",
   "metadata": {
    "ExecuteTime": {
     "end_time": "2022-07-01T13:06:18.914574Z",
     "start_time": "2022-07-01T13:06:18.888575Z"
    }
   },
   "outputs": [
    {
     "ename": "AttributeError",
     "evalue": "'list' object has no attribute 'contains'",
     "output_type": "error",
     "traceback": [
      "\u001b[1;31m---------------------------------------------------------------------------\u001b[0m",
      "\u001b[1;31mAttributeError\u001b[0m                            Traceback (most recent call last)",
      "\u001b[1;32m~\\AppData\\Local\\Temp\\ipykernel_31148\\3126516170.py\u001b[0m in \u001b[0;36m<module>\u001b[1;34m\u001b[0m\n\u001b[1;32m----> 1\u001b[1;33m \u001b[0msome_list\u001b[0m\u001b[1;33m.\u001b[0m\u001b[0mcontains\u001b[0m\u001b[1;33m(\u001b[0m\u001b[1;36m1\u001b[0m\u001b[1;33m)\u001b[0m\u001b[1;33m\u001b[0m\u001b[1;33m\u001b[0m\u001b[0m\n\u001b[0m",
      "\u001b[1;31mAttributeError\u001b[0m: 'list' object has no attribute 'contains'"
     ]
    }
   ],
   "source": [
    "some_list.contains(1)"
   ]
  },
  {
   "cell_type": "code",
   "execution_count": 4,
   "id": "b4adb216",
   "metadata": {
    "ExecuteTime": {
     "end_time": "2022-07-01T13:03:30.993754Z",
     "start_time": "2022-07-01T13:03:30.980753Z"
    }
   },
   "outputs": [
    {
     "name": "stdout",
     "output_type": "stream",
     "text": [
      "[1, 2, 3]\n",
      "[1, 2, 3]\n"
     ]
    }
   ],
   "source": [
    "num_list1 = [1,2,3]\n",
    "num_list2 = [1,2,3]\n",
    "\n",
    "print(num_list1)\n",
    "print(num_list2)"
   ]
  },
  {
   "cell_type": "code",
   "execution_count": 10,
   "id": "32813a78",
   "metadata": {
    "ExecuteTime": {
     "end_time": "2022-07-01T13:07:33.465400Z",
     "start_time": "2022-07-01T13:07:33.458386Z"
    }
   },
   "outputs": [
    {
     "name": "stdout",
     "output_type": "stream",
     "text": [
      "Help on method_descriptor:\n",
      "\n",
      "copy(self, /)\n",
      "    Return a shallow copy of the list.\n",
      "\n"
     ]
    }
   ],
   "source": [
    "help(list.copy)"
   ]
  },
  {
   "cell_type": "code",
   "execution_count": 12,
   "id": "53f9ed0d",
   "metadata": {
    "ExecuteTime": {
     "end_time": "2022-07-01T13:08:03.471449Z",
     "start_time": "2022-07-01T13:08:03.442754Z"
    }
   },
   "outputs": [
    {
     "data": {
      "text/plain": [
       "[1, 2, 3]"
      ]
     },
     "execution_count": 12,
     "metadata": {},
     "output_type": "execute_result"
    }
   ],
   "source": [
    "num_list3 = num_list1.copy()\n",
    "num_list3"
   ]
  },
  {
   "cell_type": "code",
   "execution_count": 13,
   "id": "dda5c7db",
   "metadata": {
    "ExecuteTime": {
     "end_time": "2022-07-01T13:09:12.417143Z",
     "start_time": "2022-07-01T13:09:12.396141Z"
    }
   },
   "outputs": [
    {
     "data": {
      "text/plain": [
       "[1, 'A', 2.3, 'Ahmed']"
      ]
     },
     "execution_count": 13,
     "metadata": {},
     "output_type": "execute_result"
    }
   ],
   "source": [
    "some_list"
   ]
  },
  {
   "cell_type": "code",
   "execution_count": 14,
   "id": "dd99581d",
   "metadata": {
    "ExecuteTime": {
     "end_time": "2022-07-01T13:10:33.789889Z",
     "start_time": "2022-07-01T13:10:33.768854Z"
    }
   },
   "outputs": [
    {
     "ename": "TypeError",
     "evalue": "'<' not supported between instances of 'str' and 'int'",
     "output_type": "error",
     "traceback": [
      "\u001b[1;31m---------------------------------------------------------------------------\u001b[0m",
      "\u001b[1;31mTypeError\u001b[0m                                 Traceback (most recent call last)",
      "\u001b[1;32m~\\AppData\\Local\\Temp\\ipykernel_31148\\2303150444.py\u001b[0m in \u001b[0;36m<module>\u001b[1;34m\u001b[0m\n\u001b[1;32m----> 1\u001b[1;33m \u001b[0msome_list\u001b[0m\u001b[1;33m.\u001b[0m\u001b[0msort\u001b[0m\u001b[1;33m(\u001b[0m\u001b[1;33m)\u001b[0m\u001b[1;33m\u001b[0m\u001b[1;33m\u001b[0m\u001b[0m\n\u001b[0m",
      "\u001b[1;31mTypeError\u001b[0m: '<' not supported between instances of 'str' and 'int'"
     ]
    }
   ],
   "source": [
    "some_list.sort()"
   ]
  },
  {
   "cell_type": "code",
   "execution_count": 15,
   "id": "cfe32c7c",
   "metadata": {
    "ExecuteTime": {
     "end_time": "2022-07-01T13:13:23.994672Z",
     "start_time": "2022-07-01T13:13:23.987709Z"
    }
   },
   "outputs": [],
   "source": [
    "num_list4 = [2.4, 4, 5, 10.2, 0]\n",
    "num_list4.sort()"
   ]
  },
  {
   "cell_type": "code",
   "execution_count": 16,
   "id": "dbfd241c",
   "metadata": {
    "ExecuteTime": {
     "end_time": "2022-07-01T13:13:53.332609Z",
     "start_time": "2022-07-01T13:13:53.316575Z"
    }
   },
   "outputs": [
    {
     "data": {
      "text/plain": [
       "[0, 2.4, 4, 5, 10.2]"
      ]
     },
     "execution_count": 16,
     "metadata": {},
     "output_type": "execute_result"
    }
   ],
   "source": [
    "num_list4"
   ]
  },
  {
   "cell_type": "code",
   "execution_count": 22,
   "id": "83768cca",
   "metadata": {
    "ExecuteTime": {
     "end_time": "2022-07-01T13:21:02.683990Z",
     "start_time": "2022-07-01T13:21:02.669986Z"
    }
   },
   "outputs": [],
   "source": [
    "string_list = ['dog','cats', 'sheep']\n",
    "string_list.sort()"
   ]
  },
  {
   "cell_type": "code",
   "execution_count": 23,
   "id": "06ee74d4",
   "metadata": {
    "ExecuteTime": {
     "end_time": "2022-07-01T13:21:04.072985Z",
     "start_time": "2022-07-01T13:21:04.055990Z"
    }
   },
   "outputs": [
    {
     "data": {
      "text/plain": [
       "['cats', 'dog', 'sheep']"
      ]
     },
     "execution_count": 23,
     "metadata": {},
     "output_type": "execute_result"
    }
   ],
   "source": [
    "string_list"
   ]
  },
  {
   "cell_type": "code",
   "execution_count": 25,
   "id": "1c089456",
   "metadata": {
    "ExecuteTime": {
     "end_time": "2022-07-01T13:23:09.532920Z",
     "start_time": "2022-07-01T13:23:09.513929Z"
    }
   },
   "outputs": [
    {
     "name": "stdout",
     "output_type": "stream",
     "text": [
      "Help on method_descriptor:\n",
      "\n",
      "sort(self, /, *, key=None, reverse=False)\n",
      "    Stable sort *IN PLACE*.\n",
      "\n"
     ]
    }
   ],
   "source": [
    "help(list.sort)"
   ]
  },
  {
   "cell_type": "code",
   "execution_count": 26,
   "id": "2b9e4c3f",
   "metadata": {
    "ExecuteTime": {
     "end_time": "2022-07-01T13:23:52.106084Z",
     "start_time": "2022-07-01T13:23:52.101124Z"
    }
   },
   "outputs": [],
   "source": [
    "string_list = ['dog','cats', 'sheep']\n",
    "string_list.sort(reverse=True)"
   ]
  },
  {
   "cell_type": "code",
   "execution_count": 27,
   "id": "fa9bde1c",
   "metadata": {
    "ExecuteTime": {
     "end_time": "2022-07-01T13:23:52.739880Z",
     "start_time": "2022-07-01T13:23:52.728851Z"
    }
   },
   "outputs": [
    {
     "data": {
      "text/plain": [
       "['sheep', 'dog', 'cats']"
      ]
     },
     "execution_count": 27,
     "metadata": {},
     "output_type": "execute_result"
    }
   ],
   "source": [
    "string_list"
   ]
  },
  {
   "cell_type": "markdown",
   "id": "4fdc4fe7",
   "metadata": {},
   "source": [
    "# `for` Loop"
   ]
  },
  {
   "cell_type": "code",
   "execution_count": 29,
   "id": "73eca3ae",
   "metadata": {
    "ExecuteTime": {
     "end_time": "2022-07-01T13:38:25.639092Z",
     "start_time": "2022-07-01T13:38:25.632092Z"
    }
   },
   "outputs": [
    {
     "name": "stdout",
     "output_type": "stream",
     "text": [
      "sheep\n",
      "dog\n",
      "cats\n"
     ]
    }
   ],
   "source": [
    "for string in string_list:\n",
    "    print(string)"
   ]
  },
  {
   "cell_type": "code",
   "execution_count": 30,
   "id": "e701f4d1",
   "metadata": {
    "ExecuteTime": {
     "end_time": "2022-07-01T13:38:55.505752Z",
     "start_time": "2022-07-01T13:38:55.490717Z"
    }
   },
   "outputs": [
    {
     "name": "stdout",
     "output_type": "stream",
     "text": [
      "cats\n"
     ]
    }
   ],
   "source": [
    "print(string)"
   ]
  },
  {
   "cell_type": "code",
   "execution_count": 31,
   "id": "f1e7c121",
   "metadata": {
    "ExecuteTime": {
     "end_time": "2022-07-01T13:42:04.701122Z",
     "start_time": "2022-07-01T13:42:04.695121Z"
    }
   },
   "outputs": [
    {
     "name": "stdout",
     "output_type": "stream",
     "text": [
      "c\n",
      "a\n",
      "t\n",
      "s\n"
     ]
    }
   ],
   "source": [
    "for character in string:\n",
    "    print(character)"
   ]
  },
  {
   "cell_type": "code",
   "execution_count": 36,
   "id": "3b9479f9",
   "metadata": {
    "ExecuteTime": {
     "end_time": "2022-07-01T13:46:35.767720Z",
     "start_time": "2022-07-01T13:46:35.756691Z"
    }
   },
   "outputs": [
    {
     "name": "stdout",
     "output_type": "stream",
     "text": [
      "0\n",
      "1\n",
      "2\n"
     ]
    }
   ],
   "source": [
    "for index in range(0, len(string_list)):\n",
    "    print(index)"
   ]
  },
  {
   "cell_type": "code",
   "execution_count": 41,
   "id": "3b2cc4f4",
   "metadata": {
    "ExecuteTime": {
     "end_time": "2022-07-01T13:53:12.548056Z",
     "start_time": "2022-07-01T13:53:12.541053Z"
    }
   },
   "outputs": [
    {
     "data": {
      "text/plain": [
       "['sheep', 'dog', 'cats']"
      ]
     },
     "execution_count": 41,
     "metadata": {},
     "output_type": "execute_result"
    }
   ],
   "source": [
    "string_list"
   ]
  },
  {
   "cell_type": "code",
   "execution_count": 43,
   "id": "ff55951e",
   "metadata": {
    "ExecuteTime": {
     "end_time": "2022-07-01T13:54:58.945875Z",
     "start_time": "2022-07-01T13:54:58.939872Z"
    }
   },
   "outputs": [
    {
     "name": "stdout",
     "output_type": "stream",
     "text": [
      "0\n",
      "1\n",
      "2\n"
     ]
    }
   ],
   "source": [
    "print(string_list.index('sheep'))\n",
    "print(string_list.index('dog'))\n",
    "print(string_list.index('cats'))"
   ]
  },
  {
   "cell_type": "code",
   "execution_count": 42,
   "id": "14b8db94",
   "metadata": {
    "ExecuteTime": {
     "end_time": "2022-07-01T13:54:04.878704Z",
     "start_time": "2022-07-01T13:54:04.864707Z"
    }
   },
   "outputs": [
    {
     "name": "stdout",
     "output_type": "stream",
     "text": [
      "0\n",
      "1\n",
      "2\n"
     ]
    }
   ],
   "source": [
    "for string in string_list:\n",
    "    print(string_list.index(string))"
   ]
  },
  {
   "cell_type": "code",
   "execution_count": 44,
   "id": "9573a1ea",
   "metadata": {
    "ExecuteTime": {
     "end_time": "2022-07-01T13:55:56.917073Z",
     "start_time": "2022-07-01T13:55:56.896075Z"
    }
   },
   "outputs": [
    {
     "name": "stdout",
     "output_type": "stream",
     "text": [
      "range(0, 3)\n"
     ]
    }
   ],
   "source": [
    "print(range(3))"
   ]
  },
  {
   "cell_type": "code",
   "execution_count": 45,
   "id": "0e2e21bd",
   "metadata": {
    "ExecuteTime": {
     "end_time": "2022-07-01T13:56:36.434727Z",
     "start_time": "2022-07-01T13:56:36.417728Z"
    }
   },
   "outputs": [
    {
     "name": "stdout",
     "output_type": "stream",
     "text": [
      "sheep\n",
      "dog\n",
      "cats\n"
     ]
    }
   ],
   "source": [
    "for index in range(3):\n",
    "    print(string_list[index])"
   ]
  },
  {
   "cell_type": "code",
   "execution_count": 47,
   "id": "77e60c1e",
   "metadata": {
    "ExecuteTime": {
     "end_time": "2022-07-01T14:01:10.084304Z",
     "start_time": "2022-07-01T14:01:10.073415Z"
    }
   },
   "outputs": [
    {
     "data": {
      "text/plain": [
       "'cats'"
      ]
     },
     "execution_count": 47,
     "metadata": {},
     "output_type": "execute_result"
    }
   ],
   "source": [
    "string_list[-1]"
   ]
  },
  {
   "cell_type": "code",
   "execution_count": 50,
   "id": "64b1dde3",
   "metadata": {
    "ExecuteTime": {
     "end_time": "2022-07-01T14:02:18.738050Z",
     "start_time": "2022-07-01T14:02:18.731021Z"
    }
   },
   "outputs": [
    {
     "name": "stdout",
     "output_type": "stream",
     "text": [
      "sheep\n",
      "dog\n",
      "cats\n"
     ]
    }
   ],
   "source": [
    "for index in range(-3,0):\n",
    "    print(string_list[index])"
   ]
  },
  {
   "cell_type": "code",
   "execution_count": 51,
   "id": "1cb85388",
   "metadata": {
    "ExecuteTime": {
     "end_time": "2022-07-01T14:05:04.264144Z",
     "start_time": "2022-07-01T14:05:04.244837Z"
    }
   },
   "outputs": [
    {
     "name": "stdout",
     "output_type": "stream",
     "text": [
      "sheep\n"
     ]
    }
   ],
   "source": [
    "# break and continue\n",
    "\n",
    "for string in string_list:\n",
    "    if string == 'dog':\n",
    "        break\n",
    "    print(string)"
   ]
  },
  {
   "cell_type": "code",
   "execution_count": 52,
   "id": "05539d8e",
   "metadata": {
    "ExecuteTime": {
     "end_time": "2022-07-01T14:05:50.959865Z",
     "start_time": "2022-07-01T14:05:50.953866Z"
    }
   },
   "outputs": [],
   "source": [
    "for string in string_list:\n",
    "    if string == 'sheep':\n",
    "        break\n",
    "    print(string)"
   ]
  },
  {
   "cell_type": "code",
   "execution_count": 53,
   "id": "2ee484f6",
   "metadata": {
    "ExecuteTime": {
     "end_time": "2022-07-01T14:07:33.672081Z",
     "start_time": "2022-07-01T14:07:33.664080Z"
    }
   },
   "outputs": [],
   "source": [
    "num_list = [1,2,3,4,5]"
   ]
  },
  {
   "cell_type": "code",
   "execution_count": 54,
   "id": "9a4f7aac",
   "metadata": {
    "ExecuteTime": {
     "end_time": "2022-07-01T14:08:00.913338Z",
     "start_time": "2022-07-01T14:08:00.896342Z"
    }
   },
   "outputs": [
    {
     "name": "stdout",
     "output_type": "stream",
     "text": [
      "1\n",
      "2\n"
     ]
    }
   ],
   "source": [
    "for num in num_list:\n",
    "    if num == 3:\n",
    "        break\n",
    "    print(num)"
   ]
  },
  {
   "cell_type": "code",
   "execution_count": 55,
   "id": "f9b37dcd",
   "metadata": {
    "ExecuteTime": {
     "end_time": "2022-07-01T14:09:05.402747Z",
     "start_time": "2022-07-01T14:09:05.386716Z"
    }
   },
   "outputs": [
    {
     "name": "stdout",
     "output_type": "stream",
     "text": [
      "1\n",
      "2\n",
      "4\n",
      "5\n"
     ]
    }
   ],
   "source": [
    "for num in num_list:\n",
    "    if num == 3:\n",
    "        continue\n",
    "    print(num)"
   ]
  },
  {
   "cell_type": "code",
   "execution_count": 56,
   "id": "7bb4ef11",
   "metadata": {
    "ExecuteTime": {
     "end_time": "2022-07-01T14:10:10.945562Z",
     "start_time": "2022-07-01T14:10:10.936567Z"
    }
   },
   "outputs": [
    {
     "data": {
      "text/plain": [
       "[1, 2, 3, 4, 5]"
      ]
     },
     "execution_count": 56,
     "metadata": {},
     "output_type": "execute_result"
    }
   ],
   "source": [
    "num_list"
   ]
  },
  {
   "cell_type": "code",
   "execution_count": 57,
   "id": "53298453",
   "metadata": {
    "ExecuteTime": {
     "end_time": "2022-07-01T14:11:18.611931Z",
     "start_time": "2022-07-01T14:11:18.597900Z"
    }
   },
   "outputs": [
    {
     "name": "stdout",
     "output_type": "stream",
     "text": [
      "1\n",
      "3\n",
      "5\n"
     ]
    }
   ],
   "source": [
    "for num in num_list:\n",
    "    if num % 2 == 0:\n",
    "        continue\n",
    "    print(num)"
   ]
  },
  {
   "cell_type": "code",
   "execution_count": 58,
   "id": "ac78f412",
   "metadata": {
    "ExecuteTime": {
     "end_time": "2022-07-01T14:11:27.925613Z",
     "start_time": "2022-07-01T14:11:27.901623Z"
    }
   },
   "outputs": [
    {
     "name": "stdout",
     "output_type": "stream",
     "text": [
      "2\n",
      "4\n"
     ]
    }
   ],
   "source": [
    "for num in num_list:\n",
    "    if num % 2 != 0:\n",
    "        continue\n",
    "    print(num)"
   ]
  },
  {
   "cell_type": "markdown",
   "id": "5639ccca",
   "metadata": {},
   "source": [
    "# Coding Problems"
   ]
  },
  {
   "cell_type": "markdown",
   "id": "234ca146",
   "metadata": {},
   "source": [
    "## Coding Problem 1\n",
    "Write a program which takes an integer from the user and displays _True_ if that integer is divisible by 100. Otherwise, it should display _False_."
   ]
  },
  {
   "cell_type": "markdown",
   "id": "f3afffbd",
   "metadata": {},
   "source": [
    "## Coding Problem 2a\n",
    "\n",
    "## Coding Problem 2a\n",
    "\n",
    "Write a program which takes the following input from the user.\n",
    "* No. of hours spent working\n",
    "\n",
    "Usually, a person normally spends 40 hours at work per week (5 days) and gets paid \\\\$5 per hour. A normal working day is of 8 hours. If the No. of hours is greater than 40, then it means that the person has worked overtime and he/she gets \\\\$10 per hour for the extra hours. **Given the number of hours spent working, calculate the pay of a person in a week.**\n",
    "    \n",
    "* **Requirement 1**\n",
    "    * _Hours_ = Negative input\n",
    "    * _Output_ = Error (Custom-made)\n",
    "\n",
    "\n",
    "* **Requirement 2**\n",
    "     * _Hours_ = 0\n",
    "     * _Output_ = No money made\n",
    "\n",
    "\n",
    "* **Test Case 1**\n",
    "    * _Hours_ = 40\n",
    "    * _Output_ = \\\\$200\n",
    "\n",
    "\n",
    "* **Test Case 2**\n",
    "    * _Hours_ = 50\n",
    "    * _Output_ = \\\\$300"
   ]
  },
  {
   "cell_type": "markdown",
   "id": "9cc20495",
   "metadata": {},
   "source": [
    "## Coding Problem 2b\n",
    "\n",
    "If a person works on weekends, he/she gets paid \\\\$25 per day. **Write a program to check if the person worked on a weekend and given the number of days spent working on a weekend, add this amount to the total salary for a week**. Some test cases have been given below for your help.\n",
    "\n",
    "```\n",
    "    Enter the No. of hours spent at work on weekdays = 30\n",
    "    Worked on a weekend (Y/N only) = Y\n",
    "    Days on weekend = 1\n",
    "    Pay = $ 150.0\n",
    "    Pay including weekend off shift = $ 175.0\n",
    "\n",
    "    Enter the No. of hours spent at work on weekdays = 50\n",
    "    Worked on a weekend (Y/N only) = Y\n",
    "    Days on weekend = 2\n",
    "    Pay = $ 300.0\n",
    "    Pay including weekend off shift = $ 350.0\n",
    "\n",
    "    Enter the No. of hours spent at work on weekdays = 0\n",
    "    Worked on a weekend (Y/N only) = Y\n",
    "    Days on weekend = 2\n",
    "    Pay including weekend off shift = $ 50\n",
    "\n",
    "    Enter the No. of hours spent at work on weekdays = 48\n",
    "    Worked on a weekend (Y/N only) = N\n",
    "    Days on weekend = 0\n",
    "    Pay = $ 280.0\n",
    "\n",
    "    Enter the No. of hours spent at work on weekdays = -1\n",
    "    Worked on a weekend (Y/N only) = N\n",
    "    Days on weekend = 0\n",
    "    Input is incorrect!\n",
    "\n",
    "    Enter the No. of hours spent at work on weekdays = 0\n",
    "    Worked on a weekend (Y/N only) = N\n",
    "    Days on weekend = 0\n",
    "    You didn't make any money.\n",
    "```"
   ]
  },
  {
   "cell_type": "markdown",
   "id": "ccc55fe6",
   "metadata": {},
   "source": [
    "# `while` Loop"
   ]
  },
  {
   "cell_type": "code",
   "execution_count": 1,
   "id": "c2270d51",
   "metadata": {
    "ExecuteTime": {
     "end_time": "2022-07-22T14:04:33.650249Z",
     "start_time": "2022-07-22T14:04:33.636251Z"
    }
   },
   "outputs": [
    {
     "name": "stdout",
     "output_type": "stream",
     "text": [
      "1\n",
      "2\n",
      "3\n",
      "4\n",
      "5\n"
     ]
    }
   ],
   "source": [
    "i = 1\n",
    "while i < 6:\n",
    "    print(i)\n",
    "    i += 1"
   ]
  },
  {
   "cell_type": "code",
   "execution_count": 3,
   "id": "e2580768",
   "metadata": {
    "ExecuteTime": {
     "end_time": "2022-07-22T14:05:03.802271Z",
     "start_time": "2022-07-22T14:05:03.786270Z"
    }
   },
   "outputs": [
    {
     "name": "stdout",
     "output_type": "stream",
     "text": [
      "1\n",
      "2\n",
      "3\n",
      "4\n",
      "5\n"
     ]
    }
   ],
   "source": [
    "for i in range(1,6):\n",
    "    print(i)\n",
    "    "
   ]
  },
  {
   "cell_type": "code",
   "execution_count": null,
   "id": "dc1adf23",
   "metadata": {},
   "outputs": [],
   "source": []
  }
 ],
 "metadata": {
  "kernelspec": {
   "display_name": "Python 3 (ipykernel)",
   "language": "python",
   "name": "python3"
  },
  "language_info": {
   "codemirror_mode": {
    "name": "ipython",
    "version": 3
   },
   "file_extension": ".py",
   "mimetype": "text/x-python",
   "name": "python",
   "nbconvert_exporter": "python",
   "pygments_lexer": "ipython3",
   "version": "3.10.9"
  },
  "toc": {
   "base_numbering": 1,
   "nav_menu": {},
   "number_sections": true,
   "sideBar": true,
   "skip_h1_title": false,
   "title_cell": "Table of Contents",
   "title_sidebar": "Contents",
   "toc_cell": false,
   "toc_position": {},
   "toc_section_display": true,
   "toc_window_display": false
  },
  "varInspector": {
   "cols": {
    "lenName": 16,
    "lenType": 16,
    "lenVar": 40
   },
   "kernels_config": {
    "python": {
     "delete_cmd_postfix": "",
     "delete_cmd_prefix": "del ",
     "library": "var_list.py",
     "varRefreshCmd": "print(var_dic_list())"
    },
    "r": {
     "delete_cmd_postfix": ") ",
     "delete_cmd_prefix": "rm(",
     "library": "var_list.r",
     "varRefreshCmd": "cat(var_dic_list()) "
    }
   },
   "types_to_exclude": [
    "module",
    "function",
    "builtin_function_or_method",
    "instance",
    "_Feature"
   ],
   "window_display": false
  }
 },
 "nbformat": 4,
 "nbformat_minor": 5
}
