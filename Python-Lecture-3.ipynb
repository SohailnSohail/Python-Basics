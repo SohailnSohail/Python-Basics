{
 "cells": [
  {
   "cell_type": "markdown",
   "id": "db161d4e",
   "metadata": {},
   "source": [
    "# Dictionaries\n",
    "* Used for storing complex information"
   ]
  },
  {
   "cell_type": "code",
   "execution_count": 1,
   "id": "94a74082",
   "metadata": {
    "ExecuteTime": {
     "end_time": "2022-07-23T07:56:47.049952Z",
     "start_time": "2022-07-23T07:56:47.039947Z"
    }
   },
   "outputs": [],
   "source": [
    "# hello : to say hi -> key : value"
   ]
  },
  {
   "cell_type": "code",
   "execution_count": 2,
   "id": "946ff5c6",
   "metadata": {
    "ExecuteTime": {
     "end_time": "2022-07-23T07:56:47.097953Z",
     "start_time": "2022-07-23T07:56:47.056949Z"
    }
   },
   "outputs": [
    {
     "data": {
      "text/plain": [
       "{'Name': 'Trump',\n",
       " 'Color': 'White',\n",
       " 'Breed': 'German Shepherd',\n",
       " 'Weight': 80.5,\n",
       " 'Height': 2}"
      ]
     },
     "execution_count": 2,
     "metadata": {},
     "output_type": "execute_result"
    }
   ],
   "source": [
    "dog_1 = {'Name': 'Trump', 'Color':'White', 'Breed':'German Shepherd', 'Weight':80.5, 'Height':2}\n",
    "dog_1"
   ]
  },
  {
   "cell_type": "code",
   "execution_count": 3,
   "id": "41c84867",
   "metadata": {
    "ExecuteTime": {
     "end_time": "2022-07-23T07:56:47.129948Z",
     "start_time": "2022-07-23T07:56:47.105955Z"
    }
   },
   "outputs": [
    {
     "name": "stdout",
     "output_type": "stream",
     "text": [
      "Trump\n"
     ]
    }
   ],
   "source": [
    "print(dog_1['Name'])"
   ]
  },
  {
   "cell_type": "code",
   "execution_count": 4,
   "id": "1381638b",
   "metadata": {
    "ExecuteTime": {
     "end_time": "2022-07-23T07:56:47.145951Z",
     "start_time": "2022-07-23T07:56:47.136951Z"
    }
   },
   "outputs": [
    {
     "name": "stdout",
     "output_type": "stream",
     "text": [
      "German Shepherd\n"
     ]
    }
   ],
   "source": [
    "print(dog_1['Breed'])"
   ]
  },
  {
   "cell_type": "code",
   "execution_count": 5,
   "id": "7a2a4f76",
   "metadata": {
    "ExecuteTime": {
     "end_time": "2022-07-23T07:56:47.176957Z",
     "start_time": "2022-07-23T07:56:47.156958Z"
    }
   },
   "outputs": [
    {
     "data": {
      "text/plain": [
       "{1: 'NY', 2: 'FSD', 3: 'LA'}"
      ]
     },
     "execution_count": 5,
     "metadata": {},
     "output_type": "execute_result"
    }
   ],
   "source": [
    "cities = {1:'NY', 2:'FSD', 3:'LA'}\n",
    "cities"
   ]
  },
  {
   "cell_type": "code",
   "execution_count": 6,
   "id": "19474676",
   "metadata": {
    "ExecuteTime": {
     "end_time": "2022-07-23T07:56:47.207953Z",
     "start_time": "2022-07-23T07:56:47.185951Z"
    }
   },
   "outputs": [
    {
     "data": {
      "text/plain": [
       "'NY'"
      ]
     },
     "execution_count": 6,
     "metadata": {},
     "output_type": "execute_result"
    }
   ],
   "source": [
    "cities[1]"
   ]
  },
  {
   "cell_type": "code",
   "execution_count": 7,
   "id": "9fcf8332",
   "metadata": {
    "ExecuteTime": {
     "end_time": "2022-07-23T07:56:47.239951Z",
     "start_time": "2022-07-23T07:56:47.214951Z"
    }
   },
   "outputs": [
    {
     "data": {
      "text/plain": [
       "'FSD'"
      ]
     },
     "execution_count": 7,
     "metadata": {},
     "output_type": "execute_result"
    }
   ],
   "source": [
    "cities[2]"
   ]
  },
  {
   "cell_type": "code",
   "execution_count": 8,
   "id": "665c8e77",
   "metadata": {
    "ExecuteTime": {
     "end_time": "2022-07-23T07:56:47.627950Z",
     "start_time": "2022-07-23T07:56:47.246951Z"
    }
   },
   "outputs": [
    {
     "ename": "KeyError",
     "evalue": "4",
     "output_type": "error",
     "traceback": [
      "\u001b[1;31m---------------------------------------------------------------------------\u001b[0m",
      "\u001b[1;31mKeyError\u001b[0m                                  Traceback (most recent call last)",
      "\u001b[1;32m~\\AppData\\Local\\Temp\\ipykernel_8960\\3265465078.py\u001b[0m in \u001b[0;36m<module>\u001b[1;34m\u001b[0m\n\u001b[1;32m----> 1\u001b[1;33m \u001b[0mcities\u001b[0m\u001b[1;33m[\u001b[0m\u001b[1;36m4\u001b[0m\u001b[1;33m]\u001b[0m\u001b[1;33m\u001b[0m\u001b[1;33m\u001b[0m\u001b[0m\n\u001b[0m",
      "\u001b[1;31mKeyError\u001b[0m: 4"
     ]
    }
   ],
   "source": [
    "cities[4]"
   ]
  },
  {
   "cell_type": "code",
   "execution_count": 9,
   "id": "308e3c4e",
   "metadata": {
    "ExecuteTime": {
     "end_time": "2022-07-23T07:57:14.322035Z",
     "start_time": "2022-07-23T07:57:14.300033Z"
    }
   },
   "outputs": [
    {
     "name": "stdout",
     "output_type": "stream",
     "text": [
      "{1: 'Chapter 1', 1.1: 'Chapter 1.1', 1.2: 'Chapter 1.2', 2: 'Chapter 2'}\n"
     ]
    }
   ],
   "source": [
    "table_of_contents = {1:'Chapter 1', 1.1:'Chapter 1.1', 1.2:'Chapter 1.2', 2:'Chapter 2'}\n",
    "print(table_of_contents)"
   ]
  },
  {
   "cell_type": "code",
   "execution_count": 10,
   "id": "de125a2c",
   "metadata": {
    "ExecuteTime": {
     "end_time": "2022-07-23T07:57:14.353035Z",
     "start_time": "2022-07-23T07:57:14.331036Z"
    }
   },
   "outputs": [
    {
     "data": {
      "text/plain": [
       "{'Name': 'Trump',\n",
       " 'Color': 'White',\n",
       " 'Breed': 'German Shepherd',\n",
       " 'Weight': 80.5,\n",
       " 'Height': 2}"
      ]
     },
     "execution_count": 10,
     "metadata": {},
     "output_type": "execute_result"
    }
   ],
   "source": [
    "dog_1"
   ]
  },
  {
   "cell_type": "markdown",
   "id": "413a9e9b",
   "metadata": {},
   "source": [
    "## Adding/Removing/Changing items in a Dictionary"
   ]
  },
  {
   "cell_type": "code",
   "execution_count": 11,
   "id": "8b76ab06",
   "metadata": {
    "ExecuteTime": {
     "end_time": "2022-07-23T07:57:14.384031Z",
     "start_time": "2022-07-23T07:57:14.360036Z"
    }
   },
   "outputs": [
    {
     "data": {
      "text/plain": [
       "{'Name': 'Trump',\n",
       " 'Color': 'White',\n",
       " 'Breed': 'German Shepherd',\n",
       " 'Weight': 70,\n",
       " 'Height': 2}"
      ]
     },
     "execution_count": 11,
     "metadata": {},
     "output_type": "execute_result"
    }
   ],
   "source": [
    "dog_1['Weight'] = 70\n",
    "dog_1"
   ]
  },
  {
   "cell_type": "code",
   "execution_count": 12,
   "id": "1f9161b5",
   "metadata": {
    "ExecuteTime": {
     "end_time": "2022-07-23T07:57:14.415034Z",
     "start_time": "2022-07-23T07:57:14.393038Z"
    }
   },
   "outputs": [
    {
     "name": "stdout",
     "output_type": "stream",
     "text": [
      "dict_keys(['Name', 'Color', 'Breed', 'Weight', 'Height'])\n"
     ]
    }
   ],
   "source": [
    "print(dog_1.keys())"
   ]
  },
  {
   "cell_type": "code",
   "execution_count": 13,
   "id": "0139a6ff",
   "metadata": {
    "ExecuteTime": {
     "end_time": "2022-07-23T07:57:14.446035Z",
     "start_time": "2022-07-23T07:57:14.421034Z"
    }
   },
   "outputs": [
    {
     "data": {
      "text/plain": [
       "dict_values(['Trump', 'White', 'German Shepherd', 70, 2])"
      ]
     },
     "execution_count": 13,
     "metadata": {},
     "output_type": "execute_result"
    }
   ],
   "source": [
    "dog_1.values()"
   ]
  },
  {
   "cell_type": "code",
   "execution_count": 14,
   "id": "c613b769",
   "metadata": {
    "ExecuteTime": {
     "end_time": "2022-07-23T07:57:14.477039Z",
     "start_time": "2022-07-23T07:57:14.452035Z"
    }
   },
   "outputs": [
    {
     "data": {
      "text/plain": [
       "dict_items([('Name', 'Trump'), ('Color', 'White'), ('Breed', 'German Shepherd'), ('Weight', 70), ('Height', 2)])"
      ]
     },
     "execution_count": 14,
     "metadata": {},
     "output_type": "execute_result"
    }
   ],
   "source": [
    "dog_1.items()"
   ]
  },
  {
   "cell_type": "code",
   "execution_count": 15,
   "id": "a2fe86ae",
   "metadata": {
    "ExecuteTime": {
     "end_time": "2022-07-23T07:57:14.509033Z",
     "start_time": "2022-07-23T07:57:14.484034Z"
    }
   },
   "outputs": [
    {
     "name": "stdout",
     "output_type": "stream",
     "text": [
      "<class 'dict_items'>\n"
     ]
    }
   ],
   "source": [
    "print(type(dog_1.items()))"
   ]
  },
  {
   "cell_type": "code",
   "execution_count": 16,
   "id": "8db62c38",
   "metadata": {
    "ExecuteTime": {
     "end_time": "2022-07-23T07:57:14.540033Z",
     "start_time": "2022-07-23T07:57:14.516035Z"
    }
   },
   "outputs": [
    {
     "name": "stdout",
     "output_type": "stream",
     "text": [
      "<class 'dict'> <class 'dict'> <class 'list'>\n"
     ]
    }
   ],
   "source": [
    "dict2 = {}\n",
    "dict3 = dict()\n",
    "\n",
    "new_list = list()\n",
    "print(type(dict2), type(dict3), type(new_list))"
   ]
  },
  {
   "cell_type": "code",
   "execution_count": 17,
   "id": "758b2810",
   "metadata": {
    "ExecuteTime": {
     "end_time": "2022-07-23T07:57:14.555035Z",
     "start_time": "2022-07-23T07:57:14.546033Z"
    }
   },
   "outputs": [
    {
     "name": "stdout",
     "output_type": "stream",
     "text": [
      "{}\n",
      "{}\n",
      "[]\n"
     ]
    }
   ],
   "source": [
    "print(dict2)\n",
    "print(dict3)\n",
    "print(new_list)"
   ]
  },
  {
   "cell_type": "code",
   "execution_count": 18,
   "id": "896be478",
   "metadata": {
    "ExecuteTime": {
     "end_time": "2022-07-23T07:57:14.618033Z",
     "start_time": "2022-07-23T07:57:14.571034Z"
    }
   },
   "outputs": [
    {
     "name": "stdout",
     "output_type": "stream",
     "text": [
      "()\n",
      "banana\n"
     ]
    },
    {
     "ename": "TypeError",
     "evalue": "'tuple' object does not support item assignment",
     "output_type": "error",
     "traceback": [
      "\u001b[1;31m---------------------------------------------------------------------------\u001b[0m",
      "\u001b[1;31mTypeError\u001b[0m                                 Traceback (most recent call last)",
      "\u001b[1;32m~\\AppData\\Local\\Temp\\ipykernel_8960\\1550566854.py\u001b[0m in \u001b[0;36m<module>\u001b[1;34m\u001b[0m\n\u001b[0;32m      5\u001b[0m \u001b[0mprint\u001b[0m\u001b[1;33m(\u001b[0m\u001b[0mtuple2\u001b[0m\u001b[1;33m[\u001b[0m\u001b[1;36m1\u001b[0m\u001b[1;33m]\u001b[0m\u001b[1;33m)\u001b[0m\u001b[1;33m\u001b[0m\u001b[1;33m\u001b[0m\u001b[0m\n\u001b[0;32m      6\u001b[0m \u001b[1;33m\u001b[0m\u001b[0m\n\u001b[1;32m----> 7\u001b[1;33m \u001b[0mtuple2\u001b[0m\u001b[1;33m[\u001b[0m\u001b[1;36m1\u001b[0m\u001b[1;33m]\u001b[0m \u001b[1;33m=\u001b[0m \u001b[1;34m'mango'\u001b[0m\u001b[1;33m\u001b[0m\u001b[1;33m\u001b[0m\u001b[0m\n\u001b[0m",
      "\u001b[1;31mTypeError\u001b[0m: 'tuple' object does not support item assignment"
     ]
    }
   ],
   "source": [
    "tuple1 = ()\n",
    "tuple2 = ('apple', 'banana', 'orange')\n",
    "tuple3 = tuple()\n",
    "print(tuple1)\n",
    "print(tuple2[1])\n",
    "\n",
    "tuple2[1] = 'mango'"
   ]
  },
  {
   "cell_type": "code",
   "execution_count": 19,
   "id": "6f1b483f",
   "metadata": {
    "ExecuteTime": {
     "end_time": "2022-07-23T08:03:45.507063Z",
     "start_time": "2022-07-23T08:03:45.468057Z"
    }
   },
   "outputs": [
    {
     "ename": "TypeError",
     "evalue": "'str' object does not support item assignment",
     "output_type": "error",
     "traceback": [
      "\u001b[1;31m---------------------------------------------------------------------------\u001b[0m",
      "\u001b[1;31mTypeError\u001b[0m                                 Traceback (most recent call last)",
      "\u001b[1;32m~\\AppData\\Local\\Temp\\ipykernel_8960\\3075444133.py\u001b[0m in \u001b[0;36m<module>\u001b[1;34m\u001b[0m\n\u001b[0;32m      1\u001b[0m \u001b[0mname1\u001b[0m \u001b[1;33m=\u001b[0m \u001b[1;34m\"Arslan\"\u001b[0m\u001b[1;33m\u001b[0m\u001b[1;33m\u001b[0m\u001b[0m\n\u001b[1;32m----> 2\u001b[1;33m \u001b[0mname1\u001b[0m\u001b[1;33m[\u001b[0m\u001b[1;36m4\u001b[0m\u001b[1;33m]\u001b[0m \u001b[1;33m=\u001b[0m \u001b[1;34m'b'\u001b[0m\u001b[1;33m\u001b[0m\u001b[1;33m\u001b[0m\u001b[0m\n\u001b[0m",
      "\u001b[1;31mTypeError\u001b[0m: 'str' object does not support item assignment"
     ]
    }
   ],
   "source": [
    "name1 = \"Arslan\"\n",
    "name1[4] = 'b'"
   ]
  },
  {
   "cell_type": "code",
   "execution_count": null,
   "id": "2893c8a7",
   "metadata": {
    "ExecuteTime": {
     "end_time": "2022-07-23T07:57:14.633042Z",
     "start_time": "2022-07-23T07:57:14.633042Z"
    }
   },
   "outputs": [],
   "source": [
    "dog_1"
   ]
  },
  {
   "cell_type": "code",
   "execution_count": 20,
   "id": "b8b906a6",
   "metadata": {
    "ExecuteTime": {
     "end_time": "2022-07-23T08:04:33.753321Z",
     "start_time": "2022-07-23T08:04:33.731319Z"
    }
   },
   "outputs": [],
   "source": [
    "dog_1['Pups'] = 3"
   ]
  },
  {
   "cell_type": "code",
   "execution_count": 21,
   "id": "63e67508",
   "metadata": {
    "ExecuteTime": {
     "end_time": "2022-07-23T08:04:33.785315Z",
     "start_time": "2022-07-23T08:04:33.762317Z"
    }
   },
   "outputs": [
    {
     "data": {
      "text/plain": [
       "{'Name': 'Trump',\n",
       " 'Color': 'White',\n",
       " 'Breed': 'German Shepherd',\n",
       " 'Weight': 70,\n",
       " 'Height': 2,\n",
       " 'Pups': 3}"
      ]
     },
     "execution_count": 21,
     "metadata": {},
     "output_type": "execute_result"
    }
   ],
   "source": [
    "dog_1"
   ]
  },
  {
   "cell_type": "code",
   "execution_count": 22,
   "id": "c2baa08d",
   "metadata": {
    "ExecuteTime": {
     "end_time": "2022-07-23T08:04:33.817314Z",
     "start_time": "2022-07-23T08:04:33.791319Z"
    }
   },
   "outputs": [
    {
     "data": {
      "text/plain": [
       "{'Name': 'Trump',\n",
       " 'Color': 'White',\n",
       " 'Breed': 'German Shepherd',\n",
       " 'Height': 2,\n",
       " 'Pups': 3}"
      ]
     },
     "execution_count": 22,
     "metadata": {},
     "output_type": "execute_result"
    }
   ],
   "source": [
    "del dog_1[\"Weight\"]\n",
    "dog_1"
   ]
  },
  {
   "cell_type": "code",
   "execution_count": 23,
   "id": "2d8f787e",
   "metadata": {
    "ExecuteTime": {
     "end_time": "2022-07-23T08:04:33.848317Z",
     "start_time": "2022-07-23T08:04:33.827317Z"
    }
   },
   "outputs": [
    {
     "name": "stdout",
     "output_type": "stream",
     "text": [
      "Name\n",
      "Color\n",
      "Breed\n",
      "Height\n",
      "Pups\n"
     ]
    }
   ],
   "source": [
    "for key in dog_1.keys():\n",
    "    print(key)"
   ]
  },
  {
   "cell_type": "code",
   "execution_count": 24,
   "id": "73182f88",
   "metadata": {
    "ExecuteTime": {
     "end_time": "2022-07-23T08:04:33.880321Z",
     "start_time": "2022-07-23T08:04:33.857315Z"
    }
   },
   "outputs": [
    {
     "name": "stdout",
     "output_type": "stream",
     "text": [
      "Name\n",
      "Color\n",
      "Breed\n",
      "Height\n",
      "Pups\n"
     ]
    }
   ],
   "source": [
    "for key in dog_1:\n",
    "    print(key)"
   ]
  },
  {
   "cell_type": "code",
   "execution_count": 25,
   "id": "1cff4875",
   "metadata": {
    "ExecuteTime": {
     "end_time": "2022-07-23T08:04:33.912322Z",
     "start_time": "2022-07-23T08:04:33.891313Z"
    }
   },
   "outputs": [
    {
     "name": "stdout",
     "output_type": "stream",
     "text": [
      "Trump\n",
      "White\n",
      "German Shepherd\n",
      "2\n",
      "3\n"
     ]
    }
   ],
   "source": [
    "for value in dog_1.values():\n",
    "    print(value)"
   ]
  },
  {
   "cell_type": "code",
   "execution_count": 26,
   "id": "8fcb8dc3",
   "metadata": {
    "ExecuteTime": {
     "end_time": "2022-07-23T08:04:33.944318Z",
     "start_time": "2022-07-23T08:04:33.922316Z"
    }
   },
   "outputs": [
    {
     "name": "stdout",
     "output_type": "stream",
     "text": [
      "('Name', 'Trump')\n",
      "('Color', 'White')\n",
      "('Breed', 'German Shepherd')\n",
      "('Height', 2)\n",
      "('Pups', 3)\n",
      "[('Name', 'Trump'), ('Color', 'White'), ('Breed', 'German Shepherd'), ('Height', 2), ('Pups', 3)]\n"
     ]
    }
   ],
   "source": [
    "list_dog = list()\n",
    "\n",
    "for item in dog_1.items():\n",
    "    print(item)\n",
    "    list_dog.append(item)\n",
    "    \n",
    "print(list_dog)"
   ]
  },
  {
   "cell_type": "code",
   "execution_count": 27,
   "id": "cb6aa47d",
   "metadata": {
    "ExecuteTime": {
     "end_time": "2022-07-23T08:04:33.977315Z",
     "start_time": "2022-07-23T08:04:33.951317Z"
    }
   },
   "outputs": [
    {
     "name": "stdout",
     "output_type": "stream",
     "text": [
      "Breed\n"
     ]
    }
   ],
   "source": [
    "print(list_dog[2][0])"
   ]
  },
  {
   "cell_type": "code",
   "execution_count": 28,
   "id": "fb964b0f",
   "metadata": {
    "ExecuteTime": {
     "end_time": "2022-07-23T08:04:34.008336Z",
     "start_time": "2022-07-23T08:04:33.986317Z"
    }
   },
   "outputs": [
    {
     "name": "stdout",
     "output_type": "stream",
     "text": [
      "Trump\n"
     ]
    }
   ],
   "source": [
    "print(list_dog[0][1])"
   ]
  },
  {
   "cell_type": "code",
   "execution_count": 29,
   "id": "9c2a677b",
   "metadata": {
    "ExecuteTime": {
     "end_time": "2022-07-23T08:13:13.690906Z",
     "start_time": "2022-07-23T08:13:13.661906Z"
    }
   },
   "outputs": [
    {
     "data": {
      "text/plain": [
       "{'cars': ['Civic', 'Mehran', 'Jeep', 'Bugatti'],\n",
       " 'car_parts': ['Steering Wheel', 'Wheel', 'Gears', 'Headlights']}"
      ]
     },
     "execution_count": 29,
     "metadata": {},
     "output_type": "execute_result"
    }
   ],
   "source": [
    "# Storing complex data in a dictionary\n",
    "my_cars = [\"Civic\", 'Mehran', 'Jeep', 'Bugatti']\n",
    "my_car_parts = ['Steering Wheel', 'Wheel', 'Gears', 'Headlights']\n",
    "\n",
    "my_cars_dict = {'cars': my_cars, 'car_parts': my_car_parts}\n",
    "my_cars_dict"
   ]
  },
  {
   "cell_type": "markdown",
   "id": "1d2ceea7",
   "metadata": {},
   "source": [
    "## Adding items to a dictionary on runtime"
   ]
  },
  {
   "cell_type": "code",
   "execution_count": 33,
   "id": "852e110a",
   "metadata": {
    "ExecuteTime": {
     "end_time": "2022-07-23T08:22:17.939537Z",
     "start_time": "2022-07-23T08:22:17.920539Z"
    }
   },
   "outputs": [
    {
     "data": {
      "text/plain": [
       "dict"
      ]
     },
     "execution_count": 33,
     "metadata": {},
     "output_type": "execute_result"
    }
   ],
   "source": [
    "person1 = dict()\n",
    "type(person1)"
   ]
  },
  {
   "cell_type": "code",
   "execution_count": 35,
   "id": "836eb2df",
   "metadata": {
    "ExecuteTime": {
     "end_time": "2022-07-23T08:27:54.097313Z",
     "start_time": "2022-07-23T08:27:54.061311Z"
    }
   },
   "outputs": [
    {
     "data": {
      "text/plain": [
       "{'fName': 'Jake',\n",
       " 'sName': 'Trafford',\n",
       " 'Age': 35,\n",
       " 'Address': '10, Downing Street',\n",
       " 'Children': ['Angelina', 'Arslan', 'Ahmad'],\n",
       " 'Pets': {'Cat': 'Brownie', 'Dog': 'Woofie', 'Canary': 'Tweetie'}}"
      ]
     },
     "execution_count": 35,
     "metadata": {},
     "output_type": "execute_result"
    }
   ],
   "source": [
    "person1['fName'] = 'Jake'\n",
    "person1['sName'] = 'Trafford'\n",
    "person1['Age'] = 35\n",
    "person1['Address'] = '10, Downing Street'\n",
    "person1['Children'] = ['Angelina', 'Arslan', 'Ahmad']\n",
    "person1['Pets'] = {'Cat': 'Brownie', 'Dog': 'Woofie', 'Canary': 'Tweetie'}\n",
    "\n",
    "person1"
   ]
  },
  {
   "cell_type": "code",
   "execution_count": 36,
   "id": "34f6191f",
   "metadata": {
    "ExecuteTime": {
     "end_time": "2022-07-23T08:30:14.892605Z",
     "start_time": "2022-07-23T08:30:14.857611Z"
    }
   },
   "outputs": [
    {
     "data": {
      "text/plain": [
       "{'fName': 'Arslan',\n",
       " 'sName': 'Aslam',\n",
       " 'Age': 21,\n",
       " 'Address': '44, Johar Street',\n",
       " 'Children': ['Usman', 'Hassan'],\n",
       " 'Pets': {'Cat': 'Bashir', 'Dog': 'Timmy', 'Canary': 'Tootie'}}"
      ]
     },
     "execution_count": 36,
     "metadata": {},
     "output_type": "execute_result"
    }
   ],
   "source": [
    "person2 = {}\n",
    "person2['fName'] = 'Arslan'\n",
    "person2['sName'] = 'Aslam'\n",
    "person2['Age'] = 21\n",
    "person2['Address'] = '44, Johar Street'\n",
    "person2['Children'] = ['Usman', 'Hassan']\n",
    "person2['Pets'] = {'Cat': 'Bashir', 'Dog': 'Timmy', 'Canary': 'Tootie'}\n",
    "\n",
    "person2"
   ]
  },
  {
   "cell_type": "code",
   "execution_count": 41,
   "id": "23e68bad",
   "metadata": {
    "ExecuteTime": {
     "end_time": "2022-07-23T08:35:49.419947Z",
     "start_time": "2022-07-23T08:35:49.388935Z"
    }
   },
   "outputs": [
    {
     "data": {
      "text/plain": [
       "{'fName': 'Akbar',\n",
       " 'sName': 'Anthony',\n",
       " 'Age': 25,\n",
       " 'Address': '14, Karim Street',\n",
       " 'Children': ['Mona', 'Sohail', 'Muaaz'],\n",
       " 'Pets': {'Cat': 'Baloo', 'Dog': 'Tammy', 'Canary': 'Sweetie'}}"
      ]
     },
     "execution_count": 41,
     "metadata": {},
     "output_type": "execute_result"
    }
   ],
   "source": [
    "person3 = {}\n",
    "person3['fName'] = 'Akbar'\n",
    "person3['sName'] = 'Anthony'\n",
    "person3['Age'] = 25\n",
    "person3['Address'] = '14, Karim Street'\n",
    "person3['Children'] = ['Mona', 'Sohail', 'Muaaz']\n",
    "person3['Pets'] = {'Cat': 'Baloo', 'Dog': 'Tammy', 'Canary': 'Sweetie'}\n",
    "\n",
    "person3"
   ]
  },
  {
   "cell_type": "code",
   "execution_count": 37,
   "id": "6054aa12",
   "metadata": {
    "ExecuteTime": {
     "end_time": "2022-07-23T08:31:13.578889Z",
     "start_time": "2022-07-23T08:31:13.555898Z"
    }
   },
   "outputs": [
    {
     "data": {
      "text/plain": [
       "{1: {'fName': 'Jake',\n",
       "  'sName': 'Trafford',\n",
       "  'Age': 35,\n",
       "  'Address': '10, Downing Street',\n",
       "  'Children': ['Angelina', 'Arslan', 'Ahmad'],\n",
       "  'Pets': {'Cat': 'Brownie', 'Dog': 'Woofie', 'Canary': 'Tweetie'}},\n",
       " 2: {'fName': 'Arslan',\n",
       "  'sName': 'Aslam',\n",
       "  'Age': 21,\n",
       "  'Address': '44, Johar Street',\n",
       "  'Children': ['Usman', 'Hassan'],\n",
       "  'Pets': {'Cat': 'Bashir', 'Dog': 'Timmy', 'Canary': 'Tootie'}}}"
      ]
     },
     "execution_count": 37,
     "metadata": {},
     "output_type": "execute_result"
    }
   ],
   "source": [
    "all_persons = dict()\n",
    "\n",
    "all_persons[1] = person1\n",
    "all_persons[2] = person2\n",
    "\n",
    "all_persons"
   ]
  },
  {
   "cell_type": "code",
   "execution_count": 38,
   "id": "4334b5ef",
   "metadata": {
    "ExecuteTime": {
     "end_time": "2022-07-23T08:32:31.081039Z",
     "start_time": "2022-07-23T08:32:31.049040Z"
    }
   },
   "outputs": [
    {
     "data": {
      "text/plain": [
       "[{'fName': 'Jake',\n",
       "  'sName': 'Trafford',\n",
       "  'Age': 35,\n",
       "  'Address': '10, Downing Street',\n",
       "  'Children': ['Angelina', 'Arslan', 'Ahmad'],\n",
       "  'Pets': {'Cat': 'Brownie', 'Dog': 'Woofie', 'Canary': 'Tweetie'}},\n",
       " {'fName': 'Arslan',\n",
       "  'sName': 'Aslam',\n",
       "  'Age': 21,\n",
       "  'Address': '44, Johar Street',\n",
       "  'Children': ['Usman', 'Hassan'],\n",
       "  'Pets': {'Cat': 'Bashir', 'Dog': 'Timmy', 'Canary': 'Tootie'}}]"
      ]
     },
     "execution_count": 38,
     "metadata": {},
     "output_type": "execute_result"
    }
   ],
   "source": [
    "all_persons_list = [person1, person2]\n",
    "all_persons_list"
   ]
  },
  {
   "cell_type": "code",
   "execution_count": 39,
   "id": "83a8408f",
   "metadata": {
    "ExecuteTime": {
     "end_time": "2022-07-23T08:33:19.928610Z",
     "start_time": "2022-07-23T08:33:19.910610Z"
    }
   },
   "outputs": [
    {
     "data": {
      "text/plain": [
       "{'fName': 'Jake',\n",
       " 'sName': 'Trafford',\n",
       " 'Age': 35,\n",
       " 'Address': '10, Downing Street',\n",
       " 'Children': ['Angelina', 'Arslan', 'Ahmad'],\n",
       " 'Pets': {'Cat': 'Brownie', 'Dog': 'Woofie', 'Canary': 'Tweetie'}}"
      ]
     },
     "execution_count": 39,
     "metadata": {},
     "output_type": "execute_result"
    }
   ],
   "source": [
    "all_persons_list[0]"
   ]
  },
  {
   "cell_type": "code",
   "execution_count": 40,
   "id": "f15b3294",
   "metadata": {
    "ExecuteTime": {
     "end_time": "2022-07-23T08:33:34.280468Z",
     "start_time": "2022-07-23T08:33:34.254454Z"
    }
   },
   "outputs": [
    {
     "data": {
      "text/plain": [
       "{'fName': 'Arslan',\n",
       " 'sName': 'Aslam',\n",
       " 'Age': 21,\n",
       " 'Address': '44, Johar Street',\n",
       " 'Children': ['Usman', 'Hassan'],\n",
       " 'Pets': {'Cat': 'Bashir', 'Dog': 'Timmy', 'Canary': 'Tootie'}}"
      ]
     },
     "execution_count": 40,
     "metadata": {},
     "output_type": "execute_result"
    }
   ],
   "source": [
    "all_persons_list[1]"
   ]
  },
  {
   "cell_type": "code",
   "execution_count": null,
   "id": "a78ae02b",
   "metadata": {
    "ExecuteTime": {
     "end_time": "2022-07-23T08:36:39.991746Z",
     "start_time": "2022-07-23T08:36:39.949748Z"
    }
   },
   "outputs": [],
   "source": [
    "all_persons[3] = person3"
   ]
  },
  {
   "cell_type": "code",
   "execution_count": null,
   "id": "ba8a879e",
   "metadata": {
    "ExecuteTime": {
     "end_time": "2022-07-23T08:36:39.991746Z",
     "start_time": "2022-07-23T08:36:39.949748Z"
    }
   },
   "outputs": [],
   "source": [
    "all_persons_list.append(person3)"
   ]
  },
  {
   "cell_type": "code",
   "execution_count": 45,
   "id": "9165750b",
   "metadata": {
    "ExecuteTime": {
     "end_time": "2022-07-23T08:37:59.512757Z",
     "start_time": "2022-07-23T08:37:59.488760Z"
    }
   },
   "outputs": [
    {
     "data": {
      "text/plain": [
       "[{'fName': 'Jake',\n",
       "  'sName': 'Trafford',\n",
       "  'Age': 35,\n",
       "  'Address': '10, Downing Street',\n",
       "  'Children': ['Angelina', 'Arslan', 'Ahmad'],\n",
       "  'Pets': {'Cat': 'Brownie', 'Dog': 'Woofie', 'Canary': 'Tweetie'}},\n",
       " {'fName': 'Arslan',\n",
       "  'sName': 'Aslam',\n",
       "  'Age': 21,\n",
       "  'Address': '44, Johar Street',\n",
       "  'Children': ['Usman', 'Hassan'],\n",
       "  'Pets': {'Cat': 'Bashir', 'Dog': 'Timmy', 'Canary': 'Tootie'}},\n",
       " {'fName': 'Akbar',\n",
       "  'sName': 'Anthony',\n",
       "  'Age': 25,\n",
       "  'Address': '14, Karim Street',\n",
       "  'Children': ['Mona', 'Sohail', 'Muaaz'],\n",
       "  'Pets': {'Cat': 'Baloo', 'Dog': 'Tammy', 'Canary': 'Sweetie'}},\n",
       " {'fName': 'Akbar',\n",
       "  'sName': 'Anthony',\n",
       "  'Age': 25,\n",
       "  'Address': '14, Karim Street',\n",
       "  'Children': ['Mona', 'Sohail', 'Muaaz'],\n",
       "  'Pets': {'Cat': 'Baloo', 'Dog': 'Tammy', 'Canary': 'Sweetie'}}]"
      ]
     },
     "execution_count": 45,
     "metadata": {},
     "output_type": "execute_result"
    }
   ],
   "source": [
    "all_persons_list"
   ]
  },
  {
   "cell_type": "code",
   "execution_count": 44,
   "id": "63cf5f40",
   "metadata": {
    "ExecuteTime": {
     "end_time": "2022-07-23T08:37:12.154341Z",
     "start_time": "2022-07-23T08:37:12.126343Z"
    }
   },
   "outputs": [
    {
     "data": {
      "text/plain": [
       "{1: {'fName': 'Jake',\n",
       "  'sName': 'Trafford',\n",
       "  'Age': 35,\n",
       "  'Address': '10, Downing Street',\n",
       "  'Children': ['Angelina', 'Arslan', 'Ahmad'],\n",
       "  'Pets': {'Cat': 'Brownie', 'Dog': 'Woofie', 'Canary': 'Tweetie'}},\n",
       " 2: {'fName': 'Arslan',\n",
       "  'sName': 'Aslam',\n",
       "  'Age': 21,\n",
       "  'Address': '44, Johar Street',\n",
       "  'Children': ['Usman', 'Hassan'],\n",
       "  'Pets': {'Cat': 'Bashir', 'Dog': 'Timmy', 'Canary': 'Tootie'}},\n",
       " 3: {'fName': 'Akbar',\n",
       "  'sName': 'Anthony',\n",
       "  'Age': 25,\n",
       "  'Address': '14, Karim Street',\n",
       "  'Children': ['Mona', 'Sohail', 'Muaaz'],\n",
       "  'Pets': {'Cat': 'Baloo', 'Dog': 'Tammy', 'Canary': 'Sweetie'}}}"
      ]
     },
     "execution_count": 44,
     "metadata": {},
     "output_type": "execute_result"
    }
   ],
   "source": [
    "all_persons"
   ]
  },
  {
   "cell_type": "code",
   "execution_count": 46,
   "id": "40564be8",
   "metadata": {
    "ExecuteTime": {
     "end_time": "2022-07-23T08:38:51.571524Z",
     "start_time": "2022-07-23T08:38:51.540524Z"
    }
   },
   "outputs": [
    {
     "data": {
      "text/plain": [
       "[{'fName': 'Jake',\n",
       "  'sName': 'Trafford',\n",
       "  'Age': 35,\n",
       "  'Address': '10, Downing Street',\n",
       "  'Children': ['Angelina', 'Arslan', 'Ahmad'],\n",
       "  'Pets': {'Cat': 'Brownie', 'Dog': 'Woofie', 'Canary': 'Tweetie'}},\n",
       " {'fName': 'Arslan',\n",
       "  'sName': 'Aslam',\n",
       "  'Age': 21,\n",
       "  'Address': '44, Johar Street',\n",
       "  'Children': ['Usman', 'Hassan'],\n",
       "  'Pets': {'Cat': 'Bashir', 'Dog': 'Timmy', 'Canary': 'Tootie'}},\n",
       " {'fName': 'Akbar',\n",
       "  'sName': 'Anthony',\n",
       "  'Age': 25,\n",
       "  'Address': '14, Karim Street',\n",
       "  'Children': ['Mona', 'Sohail', 'Muaaz'],\n",
       "  'Pets': {'Cat': 'Baloo', 'Dog': 'Tammy', 'Canary': 'Sweetie'}}]"
      ]
     },
     "execution_count": 46,
     "metadata": {},
     "output_type": "execute_result"
    }
   ],
   "source": [
    "del all_persons_list[3]\n",
    "all_persons_list"
   ]
  },
  {
   "cell_type": "code",
   "execution_count": 49,
   "id": "abdd6b55",
   "metadata": {
    "ExecuteTime": {
     "end_time": "2022-07-23T08:41:15.167172Z",
     "start_time": "2022-07-23T08:41:15.139178Z"
    }
   },
   "outputs": [
    {
     "data": {
      "text/plain": [
       "'Angelina'"
      ]
     },
     "execution_count": 49,
     "metadata": {},
     "output_type": "execute_result"
    }
   ],
   "source": [
    "all_persons_list[0]['Children'][0]"
   ]
  },
  {
   "cell_type": "code",
   "execution_count": 54,
   "id": "0f513f58",
   "metadata": {
    "ExecuteTime": {
     "end_time": "2022-07-23T08:49:05.669066Z",
     "start_time": "2022-07-23T08:49:05.652070Z"
    }
   },
   "outputs": [
    {
     "name": "stdout",
     "output_type": "stream",
     "text": [
      "Bashir\n"
     ]
    }
   ],
   "source": [
    "pets_dict = all_persons_list[1]['Pets']\n",
    "\n",
    "for key in pets_dict.keys():\n",
    "    if key == \"Cat\":\n",
    "        print(pets_dict[key])"
   ]
  },
  {
   "cell_type": "markdown",
   "id": "ef3cc0a2",
   "metadata": {},
   "source": [
    "## Simple Coding Problems\n",
    "1. Find out the names of Akbar's kids & find the number of children, which he has.\n",
    "    1. Find out the names of Akbar's 3rd child.\n",
    "    \n",
    "2. Find out if Jake has a dog & if yes, what is its name? **Use `items()` method here.**"
   ]
  },
  {
   "cell_type": "code",
   "execution_count": 55,
   "id": "aaeca7ce",
   "metadata": {
    "ExecuteTime": {
     "end_time": "2022-07-23T08:54:11.885177Z",
     "start_time": "2022-07-23T08:54:11.855179Z"
    }
   },
   "outputs": [
    {
     "data": {
      "text/plain": [
       "{1: 'Roger', 2: 23, 3: [], 4: 'Harry', 5: 24, 6: []}"
      ]
     },
     "execution_count": 55,
     "metadata": {},
     "output_type": "execute_result"
    }
   ],
   "source": [
    "dict_a = {1: \"Roger\", 2: 23, 3: []}\n",
    "dict_b = {4: \"Harry\", 5: 24, 6: []}\n",
    "\n",
    "dict_a.update(dict_b)\n",
    "dict_a"
   ]
  },
  {
   "cell_type": "code",
   "execution_count": 1,
   "id": "81fc409b",
   "metadata": {
    "ExecuteTime": {
     "end_time": "2022-07-23T09:53:57.438461Z",
     "start_time": "2022-07-23T09:53:56.476131Z"
    }
   },
   "outputs": [
    {
     "ename": "NameError",
     "evalue": "name 'dict_a' is not defined",
     "output_type": "error",
     "traceback": [
      "\u001b[1;31m---------------------------------------------------------------------------\u001b[0m",
      "\u001b[1;31mNameError\u001b[0m                                 Traceback (most recent call last)",
      "\u001b[1;32m~\\AppData\\Local\\Temp\\ipykernel_19592\\949487454.py\u001b[0m in \u001b[0;36m<module>\u001b[1;34m\u001b[0m\n\u001b[0;32m      1\u001b[0m \u001b[1;31m# Latest Method (Mainly used in Python 3.9 onwards)\u001b[0m\u001b[1;33m\u001b[0m\u001b[1;33m\u001b[0m\u001b[1;33m\u001b[0m\u001b[0m\n\u001b[1;32m----> 2\u001b[1;33m \u001b[0mdict_new\u001b[0m \u001b[1;33m=\u001b[0m \u001b[0mdict_a\u001b[0m \u001b[1;33m|\u001b[0m \u001b[0mdict_b\u001b[0m\u001b[1;33m\u001b[0m\u001b[1;33m\u001b[0m\u001b[0m\n\u001b[0m\u001b[0;32m      3\u001b[0m \u001b[0mdict_new\u001b[0m\u001b[1;33m\u001b[0m\u001b[1;33m\u001b[0m\u001b[0m\n",
      "\u001b[1;31mNameError\u001b[0m: name 'dict_a' is not defined"
     ]
    }
   ],
   "source": [
    "# Latest Method (Mainly used in Python 3.9 onwards)\n",
    "dict_new = dict_a | dict_b\n",
    "dict_new"
   ]
  },
  {
   "cell_type": "code",
   "execution_count": 57,
   "id": "0b3a48e1",
   "metadata": {
    "ExecuteTime": {
     "end_time": "2022-07-23T08:55:49.089241Z",
     "start_time": "2022-07-23T08:55:49.048244Z"
    }
   },
   "outputs": [
    {
     "data": {
      "text/plain": [
       "{1: 'Harry', 2: 24, 3: []}"
      ]
     },
     "execution_count": 57,
     "metadata": {},
     "output_type": "execute_result"
    }
   ],
   "source": [
    "dict_a = {1: \"Roger\", 2: 23, 3: []}\n",
    "dict_b = {1: \"Harry\", 2: 24, 3: []}\n",
    "\n",
    "dict_a.update(dict_b)\n",
    "dict_a"
   ]
  },
  {
   "cell_type": "markdown",
   "id": "ad340de8",
   "metadata": {},
   "source": [
    "# Functions"
   ]
  },
  {
   "cell_type": "code",
   "execution_count": 58,
   "id": "b10ddb9e",
   "metadata": {
    "ExecuteTime": {
     "end_time": "2022-07-23T09:14:45.986632Z",
     "start_time": "2022-07-23T09:14:45.969634Z"
    }
   },
   "outputs": [],
   "source": [
    "def do_some_work(input_variable):\n",
    "    print('i am doing some work!')\n",
    "    \n",
    "    return 'done with my work'"
   ]
  },
  {
   "cell_type": "code",
   "execution_count": 61,
   "id": "aff5c65d",
   "metadata": {
    "ExecuteTime": {
     "end_time": "2022-07-23T09:15:23.702107Z",
     "start_time": "2022-07-23T09:15:23.689102Z"
    }
   },
   "outputs": [],
   "source": [
    "def do_some_work2():\n",
    "    print('i am doing some work!')\n"
   ]
  },
  {
   "cell_type": "code",
   "execution_count": 62,
   "id": "e0baef3e",
   "metadata": {
    "ExecuteTime": {
     "end_time": "2022-07-23T09:15:24.878017Z",
     "start_time": "2022-07-23T09:15:24.859025Z"
    }
   },
   "outputs": [
    {
     "name": "stdout",
     "output_type": "stream",
     "text": [
      "i am doing some work!\n"
     ]
    }
   ],
   "source": [
    "do_some_work2()"
   ]
  },
  {
   "cell_type": "code",
   "execution_count": 63,
   "id": "dbdaa24c",
   "metadata": {
    "ExecuteTime": {
     "end_time": "2022-07-23T09:15:56.877280Z",
     "start_time": "2022-07-23T09:15:56.860289Z"
    }
   },
   "outputs": [
    {
     "name": "stdout",
     "output_type": "stream",
     "text": [
      "i am doing some work!\n"
     ]
    },
    {
     "data": {
      "text/plain": [
       "'done with my work'"
      ]
     },
     "execution_count": 63,
     "metadata": {},
     "output_type": "execute_result"
    }
   ],
   "source": [
    "do_some_work(1)"
   ]
  },
  {
   "cell_type": "code",
   "execution_count": 65,
   "id": "8707cc10",
   "metadata": {
    "ExecuteTime": {
     "end_time": "2022-07-23T09:16:54.811878Z",
     "start_time": "2022-07-23T09:16:54.801880Z"
    }
   },
   "outputs": [
    {
     "name": "stdout",
     "output_type": "stream",
     "text": [
      "i am doing some work!\n",
      "returned_value: done with my work\n"
     ]
    }
   ],
   "source": [
    "returned_value = do_some_work(1)\n",
    "print('returned_value:', returned_value)"
   ]
  },
  {
   "cell_type": "code",
   "execution_count": 66,
   "id": "39e758e0",
   "metadata": {
    "ExecuteTime": {
     "end_time": "2022-07-23T09:18:29.119231Z",
     "start_time": "2022-07-23T09:18:29.107230Z"
    }
   },
   "outputs": [],
   "source": [
    "def add_numbers(num1,num2):\n",
    "    return num1 + num2"
   ]
  },
  {
   "cell_type": "code",
   "execution_count": 71,
   "id": "b71ace59",
   "metadata": {
    "ExecuteTime": {
     "end_time": "2022-07-23T09:20:32.455090Z",
     "start_time": "2022-07-23T09:20:32.428094Z"
    }
   },
   "outputs": [
    {
     "data": {
      "text/plain": [
       "11.0"
      ]
     },
     "execution_count": 71,
     "metadata": {},
     "output_type": "execute_result"
    }
   ],
   "source": [
    "add_numbers(7.6,3.4)"
   ]
  },
  {
   "cell_type": "code",
   "execution_count": 74,
   "id": "86e7917e",
   "metadata": {
    "ExecuteTime": {
     "end_time": "2022-07-23T09:22:53.765965Z",
     "start_time": "2022-07-23T09:22:53.746963Z"
    }
   },
   "outputs": [],
   "source": [
    "def age_printer(age,name):\n",
    "    print('My name is {} and my age is {}.'.format(name,age))"
   ]
  },
  {
   "cell_type": "code",
   "execution_count": 75,
   "id": "3e037c2f",
   "metadata": {
    "ExecuteTime": {
     "end_time": "2022-07-23T09:22:54.019965Z",
     "start_time": "2022-07-23T09:22:53.998974Z"
    }
   },
   "outputs": [
    {
     "name": "stdout",
     "output_type": "stream",
     "text": [
      "My name is Ahmed and my age is 27.\n"
     ]
    }
   ],
   "source": [
    "age_printer(27,'Ahmed')"
   ]
  },
  {
   "cell_type": "code",
   "execution_count": 77,
   "id": "40f9e950",
   "metadata": {
    "ExecuteTime": {
     "end_time": "2022-07-23T09:24:16.448068Z",
     "start_time": "2022-07-23T09:24:16.429068Z"
    }
   },
   "outputs": [
    {
     "name": "stdout",
     "output_type": "stream",
     "text": [
      "My name is 27 and my age is Ahmed.\n"
     ]
    }
   ],
   "source": [
    "age_printer('Ahmed', 27) #wrong"
   ]
  },
  {
   "cell_type": "code",
   "execution_count": 78,
   "id": "279e97ed",
   "metadata": {
    "ExecuteTime": {
     "end_time": "2022-07-23T09:24:59.446415Z",
     "start_time": "2022-07-23T09:24:59.432419Z"
    }
   },
   "outputs": [
    {
     "name": "stdout",
     "output_type": "stream",
     "text": [
      "My name is Ahmed and my age is 27.\n"
     ]
    }
   ],
   "source": [
    "age_printer(name='Ahmed', age=27)"
   ]
  },
  {
   "cell_type": "code",
   "execution_count": 80,
   "id": "e9ed7b11",
   "metadata": {
    "ExecuteTime": {
     "end_time": "2022-07-23T09:28:47.464268Z",
     "start_time": "2022-07-23T09:28:47.416262Z"
    }
   },
   "outputs": [
    {
     "ename": "TypeError",
     "evalue": "age_printer() missing 2 required positional arguments: 'age' and 'name'",
     "output_type": "error",
     "traceback": [
      "\u001b[1;31m---------------------------------------------------------------------------\u001b[0m",
      "\u001b[1;31mTypeError\u001b[0m                                 Traceback (most recent call last)",
      "\u001b[1;32m~\\AppData\\Local\\Temp\\ipykernel_8960\\3829620870.py\u001b[0m in \u001b[0;36m<module>\u001b[1;34m\u001b[0m\n\u001b[1;32m----> 1\u001b[1;33m \u001b[0mage_printer\u001b[0m\u001b[1;33m(\u001b[0m\u001b[1;33m)\u001b[0m\u001b[1;33m\u001b[0m\u001b[1;33m\u001b[0m\u001b[0m\n\u001b[0m",
      "\u001b[1;31mTypeError\u001b[0m: age_printer() missing 2 required positional arguments: 'age' and 'name'"
     ]
    }
   ],
   "source": [
    "age_printer()"
   ]
  },
  {
   "cell_type": "code",
   "execution_count": 81,
   "id": "ad9b73d4",
   "metadata": {
    "ExecuteTime": {
     "end_time": "2022-07-23T09:29:37.619732Z",
     "start_time": "2022-07-23T09:29:37.601733Z"
    }
   },
   "outputs": [],
   "source": [
    "def age_printer2(age=0,name=''): #default arguments\n",
    "    print('My name is {} and my age is {}.'.format(name,age))"
   ]
  },
  {
   "cell_type": "code",
   "execution_count": 83,
   "id": "cdef367d",
   "metadata": {
    "ExecuteTime": {
     "end_time": "2022-07-23T09:29:48.975344Z",
     "start_time": "2022-07-23T09:29:48.952358Z"
    }
   },
   "outputs": [
    {
     "name": "stdout",
     "output_type": "stream",
     "text": [
      "My name is  and my age is 0.\n"
     ]
    }
   ],
   "source": [
    "age_printer2()"
   ]
  },
  {
   "cell_type": "code",
   "execution_count": 84,
   "id": "cba1ae00",
   "metadata": {
    "ExecuteTime": {
     "end_time": "2022-07-23T09:30:21.554924Z",
     "start_time": "2022-07-23T09:30:21.543920Z"
    }
   },
   "outputs": [
    {
     "name": "stdout",
     "output_type": "stream",
     "text": [
      "My name is Ahmed and my age is 27.\n"
     ]
    }
   ],
   "source": [
    "age_printer2(27,'Ahmed')"
   ]
  },
  {
   "cell_type": "code",
   "execution_count": 87,
   "id": "df317d21",
   "metadata": {
    "ExecuteTime": {
     "end_time": "2022-07-23T09:34:52.123331Z",
     "start_time": "2022-07-23T09:34:52.103324Z"
    }
   },
   "outputs": [],
   "source": [
    "def print_grocery_list(item_list):   \n",
    "    i = 1\n",
    "    for item in item_list:\n",
    "        print('{}. {}'.format(i,item))\n",
    "        i += 1"
   ]
  },
  {
   "cell_type": "code",
   "execution_count": 89,
   "id": "c930ea97",
   "metadata": {
    "ExecuteTime": {
     "end_time": "2022-07-23T09:35:04.943521Z",
     "start_time": "2022-07-23T09:35:04.924521Z"
    }
   },
   "outputs": [
    {
     "name": "stdout",
     "output_type": "stream",
     "text": [
      "1. bread\n",
      "2. eggs\n",
      "3. beans\n"
     ]
    }
   ],
   "source": [
    "print_grocery_list(['bread', 'eggs', 'beans'])"
   ]
  },
  {
   "cell_type": "code",
   "execution_count": null,
   "id": "b9a797cf",
   "metadata": {},
   "outputs": [],
   "source": []
  }
 ],
 "metadata": {
  "kernelspec": {
   "display_name": "Python 3 (ipykernel)",
   "language": "python",
   "name": "python3"
  },
  "language_info": {
   "codemirror_mode": {
    "name": "ipython",
    "version": 3
   },
   "file_extension": ".py",
   "mimetype": "text/x-python",
   "name": "python",
   "nbconvert_exporter": "python",
   "pygments_lexer": "ipython3",
   "version": "3.10.9"
  },
  "toc": {
   "base_numbering": 1,
   "nav_menu": {},
   "number_sections": true,
   "sideBar": true,
   "skip_h1_title": false,
   "title_cell": "Table of Contents",
   "title_sidebar": "Contents",
   "toc_cell": false,
   "toc_position": {},
   "toc_section_display": true,
   "toc_window_display": false
  },
  "varInspector": {
   "cols": {
    "lenName": 16,
    "lenType": 16,
    "lenVar": 40
   },
   "kernels_config": {
    "python": {
     "delete_cmd_postfix": "",
     "delete_cmd_prefix": "del ",
     "library": "var_list.py",
     "varRefreshCmd": "print(var_dic_list())"
    },
    "r": {
     "delete_cmd_postfix": ") ",
     "delete_cmd_prefix": "rm(",
     "library": "var_list.r",
     "varRefreshCmd": "cat(var_dic_list()) "
    }
   },
   "types_to_exclude": [
    "module",
    "function",
    "builtin_function_or_method",
    "instance",
    "_Feature"
   ],
   "window_display": false
  }
 },
 "nbformat": 4,
 "nbformat_minor": 5
}
